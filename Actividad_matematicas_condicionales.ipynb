{
 "cells": [
  {
   "cell_type": "markdown",
   "metadata": {},
   "source": [
    "# Matematicas y condicionales (Práctica)"
   ]
  },
  {
   "cell_type": "markdown",
   "metadata": {},
   "source": [
    "### Ejercicio 1: Calculadora Básica\n",
    "\n",
    "Crea un programa que pida al usuario dos números y luego le ofrezca un menú para realizar operaciones básicas (suma, resta, multiplicación, división). El programa debe mostrar el resultado de la operación seleccionada"
   ]
  },
  {
   "cell_type": "code",
   "execution_count": 2,
   "metadata": {},
   "outputs": [
    {
     "name": "stdout",
     "output_type": "stream",
     "text": [
      "Calculadora Básica\n"
     ]
    },
    {
     "name": "stdout",
     "output_type": "stream",
     "text": [
      "Selecciona una operación:\n",
      "1- Suma\n",
      "2- Resta\n",
      "3- Multiplicación\n",
      "4- Division\n",
      "El resultado es: 3\n"
     ]
    }
   ],
   "source": [
    "def calculadora():\n",
    "    print(\"Calculadora Básica\")\n",
    "    \n",
    "    #Captura los números del usuario\n",
    "    num1 = int(input(\"Ingresa el primer número:\"))\n",
    "    num2 = int(input(\"Ingresa el segundo número:\"))\n",
    "    \n",
    "    #Muestra el menu de operaciones\n",
    "    print(\"Selecciona una operación:\")\n",
    "    print(\"1- Suma\")\n",
    "    print(\"2- Resta\")\n",
    "    print(\"3- Multiplicación\")\n",
    "    print(\"4- Division\")\n",
    "    \n",
    "    #Ingresa el número de la opción\n",
    "    opcion = int(input(\"Ingresa el número de la opción:\"))\n",
    "    \n",
    "    if opcion == 1:\n",
    "        resultado = (num1 + num2)\n",
    "        print(\"El resultado es:\", resultado)\n",
    "    elif opcion == 2:\n",
    "        resultado = (num1 - num2)\n",
    "        print(\"El resultado es:\", resultado)\n",
    "    elif opcion == 3:\n",
    "        resultado = (num1 * num2)\n",
    "        print(\"El resultado es:\", resultado)\n",
    "    elif opcion == 4:\n",
    "        if num2 != 0:\n",
    "            resultado = (num1 // num2)\n",
    "            print(\"El resultado es:\", resultado)\n",
    "        else:\n",
    "            print(\"Error: Division por cero\")\n",
    "    else:\n",
    "        print(\"Opción no valida\")\n",
    "        \n",
    "calculadora()\n",
    "    \n",
    "    "
   ]
  },
  {
   "cell_type": "markdown",
   "metadata": {},
   "source": [
    "### Ejercicio 2: Determinar la Mayoría de Edad\n",
    "\n",
    "Crea un programa que pida al usuario su edad y determine si es mayor de edad (18 años o más)."
   ]
  },
  {
   "cell_type": "code",
   "execution_count": 9,
   "metadata": {},
   "outputs": [
    {
     "name": "stdout",
     "output_type": "stream",
     "text": [
      "Es menor de edad\n"
     ]
    }
   ],
   "source": [
    "edad = int(input(\"Ingrese su edad:\"))\n",
    "\n",
    "if edad >= 18:\n",
    "    print(\"Es mayor de edad\")\n",
    "else:\n",
    "    print(\"Es menor de edad\")\n"
   ]
  },
  {
   "cell_type": "markdown",
   "metadata": {},
   "source": [
    "### Ejercicio 3: Juego de Adivinanza\n",
    "\n",
    "Crea un juego donde el programa elija un número aleatorio entre 1 y 100 y el usuario tenga que adivinarlo. El programa debe indicar si el número ingresado por el usuario es mayor, menor o igual al número secreto."
   ]
  },
  {
   "cell_type": "code",
   "execution_count": 2,
   "metadata": {},
   "outputs": [
    {
     "name": "stdout",
     "output_type": "stream",
     "text": [
      "Bienvenido al juego ADIVINA ADIVINADOR\n",
      "Seleccioné un número del 1 al 100. Adivina cual es!!\n",
      "El número es mayor\n",
      "El número es mayor\n",
      "El número es menor\n",
      "El número es menor\n",
      "El número es menor\n",
      "Felicidades! adivinaste en tu intento número 6, el número secreto es el 40!\n"
     ]
    }
   ],
   "source": [
    "import random\n",
    "\n",
    "numero_secreto = random.randint(1,100)\n",
    "intentos = 0\n",
    "encontrado = False\n",
    "\n",
    "print(\"Bienvenido al juego ADIVINA ADIVINADOR\")\n",
    "print(\"Seleccioné un número del 1 al 100. Adivina cual es!!\")\n",
    "\n",
    "while not encontrado:\n",
    "    intento = int(input(\"Ingresa tu número:\"))\n",
    "    intentos += 1\n",
    "    \n",
    "    if intento < numero_secreto:\n",
    "        print(\"El número es mayor\")\n",
    "    elif intento > numero_secreto:\n",
    "        print(\"El número es menor\")\n",
    "    else:\n",
    "        print(f\"Felicidades! adivinaste en tu intento número {intentos}, el número secreto es el {numero_secreto}!\")\n",
    "        encontrado = True"
   ]
  },
  {
   "cell_type": "markdown",
   "metadata": {},
   "source": [
    "### Ejercicio 4: Comparación de Tres Números\n",
    "\n",
    "Crea un programa que pida al usuario tres números y determine cuál es el mayor."
   ]
  },
  {
   "cell_type": "code",
   "execution_count": 18,
   "metadata": {},
   "outputs": [
    {
     "name": "stdout",
     "output_type": "stream",
     "text": [
      "Ingresa números y vamos a identificar cual es el mayor\n",
      "Estos son tus números: ['1', '20', '50', '3', '5']\n",
      "Y el número mayor es: 50\n"
     ]
    }
   ],
   "source": [
    "print(\"Ingresa números y vamos a identificar cual es el mayor\")\n",
    "\n",
    "numeros = input(\"Ingresa 3 números entre comas:\")\n",
    "\n",
    "listado = numeros.split(\",\")\n",
    "listado2 = []\n",
    "\n",
    "for i in listado:\n",
    "    listado2.append(int(i))\n",
    "    \n",
    "    #listado2 = listado.append = [int(i)]\n",
    "    \n",
    "\n",
    "print(\"Estos son tus números:\", listado)\n",
    "print(\"Y el número mayor es:\", max(listado2))\n"
   ]
  }
 ],
 "metadata": {
  "kernelspec": {
   "display_name": "Python 3",
   "language": "python",
   "name": "python3"
  },
  "language_info": {
   "codemirror_mode": {
    "name": "ipython",
    "version": 3
   },
   "file_extension": ".py",
   "mimetype": "text/x-python",
   "name": "python",
   "nbconvert_exporter": "python",
   "pygments_lexer": "ipython3",
   "version": "3.12.7"
  }
 },
 "nbformat": 4,
 "nbformat_minor": 2
}
