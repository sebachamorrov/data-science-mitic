{
 "cells": [
  {
   "cell_type": "code",
   "execution_count": 7,
   "metadata": {},
   "outputs": [],
   "source": [
    "import pandas as pd\n",
    "\n",
    "# Cargar datos desde un archivo CSV\n",
    "df = pd.read_csv('C:/Users/sebac/OneDrive/Documentos/Cursos/0-DATASETS/titanic.csv')"
   ]
  },
  {
   "cell_type": "code",
   "execution_count": 8,
   "metadata": {},
   "outputs": [
    {
     "name": "stdout",
     "output_type": "stream",
     "text": [
      "Primeras filas del DataFrame:\n",
      "   PassengerId  Survived  Pclass  \\\n",
      "0            1         0       3   \n",
      "1            2         1       1   \n",
      "2            3         1       3   \n",
      "3            4         1       1   \n",
      "4            5         0       3   \n",
      "\n",
      "                                                Name     Sex   Age  SibSp  \\\n",
      "0                            Braund, Mr. Owen Harris    male  22.0      1   \n",
      "1  Cumings, Mrs. John Bradley (Florence Briggs Th...  female  38.0      1   \n",
      "2                             Heikkinen, Miss. Laina  female  26.0      0   \n",
      "3       Futrelle, Mrs. Jacques Heath (Lily May Peel)  female  35.0      1   \n",
      "4                           Allen, Mr. William Henry    male  35.0      0   \n",
      "\n",
      "   Parch            Ticket     Fare Cabin Embarked  \n",
      "0      0         A/5 21171   7.2500   NaN        S  \n",
      "1      0          PC 17599  71.2833   C85        C  \n",
      "2      0  STON/O2. 3101282   7.9250   NaN        S  \n",
      "3      0            113803  53.1000  C123        S  \n",
      "4      0            373450   8.0500   NaN        S  \n"
     ]
    }
   ],
   "source": [
    "# Ver las primeras y últimas filas del DataFrame1\n",
    "print(\"Primeras filas del DataFrame:\")\n",
    "print(df.head())"
   ]
  },
  {
   "cell_type": "code",
   "execution_count": 9,
   "metadata": {},
   "outputs": [
    {
     "name": "stdout",
     "output_type": "stream",
     "text": [
      "nÚltimas filas del DataFrame:\n",
      "     PassengerId  Survived  Pclass                                      Name  \\\n",
      "886          887         0       2                     Montvila, Rev. Juozas   \n",
      "887          888         1       1              Graham, Miss. Margaret Edith   \n",
      "888          889         0       3  Johnston, Miss. Catherine Helen \"Carrie\"   \n",
      "889          890         1       1                     Behr, Mr. Karl Howell   \n",
      "890          891         0       3                       Dooley, Mr. Patrick   \n",
      "\n",
      "        Sex   Age  SibSp  Parch      Ticket   Fare Cabin Embarked  \n",
      "886    male  27.0      0      0      211536  13.00   NaN        S  \n",
      "887  female  19.0      0      0      112053  30.00   B42        S  \n",
      "888  female   NaN      1      2  W./C. 6607  23.45   NaN        S  \n",
      "889    male  26.0      0      0      111369  30.00  C148        C  \n",
      "890    male  32.0      0      0      370376   7.75   NaN        Q  \n"
     ]
    }
   ],
   "source": [
    "print(\"nÚltimas filas del DataFrame:\")\n",
    "print(df.tail())"
   ]
  },
  {
   "cell_type": "code",
   "execution_count": 10,
   "metadata": {},
   "outputs": [
    {
     "name": "stdout",
     "output_type": "stream",
     "text": [
      "nInformación del DataFrame:\n",
      "<class 'pandas.core.frame.DataFrame'>\n",
      "RangeIndex: 891 entries, 0 to 890\n",
      "Data columns (total 12 columns):\n",
      " #   Column       Non-Null Count  Dtype  \n",
      "---  ------       --------------  -----  \n",
      " 0   PassengerId  891 non-null    int64  \n",
      " 1   Survived     891 non-null    int64  \n",
      " 2   Pclass       891 non-null    int64  \n",
      " 3   Name         891 non-null    object \n",
      " 4   Sex          891 non-null    object \n",
      " 5   Age          714 non-null    float64\n",
      " 6   SibSp        891 non-null    int64  \n",
      " 7   Parch        891 non-null    int64  \n",
      " 8   Ticket       891 non-null    object \n",
      " 9   Fare         891 non-null    float64\n",
      " 10  Cabin        204 non-null    object \n",
      " 11  Embarked     889 non-null    object \n",
      "dtypes: float64(2), int64(5), object(5)\n",
      "memory usage: 83.7+ KB\n",
      "None\n"
     ]
    }
   ],
   "source": [
    "# Obtener información general sobre el DataFrame\n",
    "print(\"nInformación del DataFrame:\")\n",
    "print(df.info())\n"
   ]
  },
  {
   "cell_type": "code",
   "execution_count": 11,
   "metadata": {},
   "outputs": [
    {
     "name": "stdout",
     "output_type": "stream",
     "text": [
      "nEstadísticas descriptivas del DataFrame:\n",
      "       PassengerId    Survived      Pclass         Age       SibSp  \\\n",
      "count   891.000000  891.000000  891.000000  714.000000  891.000000   \n",
      "mean    446.000000    0.383838    2.308642   29.699118    0.523008   \n",
      "std     257.353842    0.486592    0.836071   14.526497    1.102743   \n",
      "min       1.000000    0.000000    1.000000    0.420000    0.000000   \n",
      "25%     223.500000    0.000000    2.000000   20.125000    0.000000   \n",
      "50%     446.000000    0.000000    3.000000   28.000000    0.000000   \n",
      "75%     668.500000    1.000000    3.000000   38.000000    1.000000   \n",
      "max     891.000000    1.000000    3.000000   80.000000    8.000000   \n",
      "\n",
      "            Parch        Fare  \n",
      "count  891.000000  891.000000  \n",
      "mean     0.381594   32.204208  \n",
      "std      0.806057   49.693429  \n",
      "min      0.000000    0.000000  \n",
      "25%      0.000000    7.910400  \n",
      "50%      0.000000   14.454200  \n",
      "75%      0.000000   31.000000  \n",
      "max      6.000000  512.329200  \n"
     ]
    }
   ],
   "source": [
    "# Generar estadísticas descriptivas\n",
    "print(\"nEstadísticas descriptivas del DataFrame:\")\n",
    "print(df.describe())\n"
   ]
  },
  {
   "cell_type": "code",
   "execution_count": 12,
   "metadata": {},
   "outputs": [
    {
     "name": "stdout",
     "output_type": "stream",
     "text": [
      "nTipos de datos de las columnas:\n",
      "PassengerId      int64\n",
      "Survived         int64\n",
      "Pclass           int64\n",
      "Name            object\n",
      "Sex             object\n",
      "Age            float64\n",
      "SibSp            int64\n",
      "Parch            int64\n",
      "Ticket          object\n",
      "Fare           float64\n",
      "Cabin           object\n",
      "Embarked        object\n",
      "dtype: object\n"
     ]
    }
   ],
   "source": [
    "# Inspeccionar los tipos de datos de las columnas\n",
    "print(\"nTipos de datos de las columnas:\")\n",
    "print(df.dtypes)\n"
   ]
  },
  {
   "cell_type": "code",
   "execution_count": 13,
   "metadata": {},
   "outputs": [
    {
     "name": "stdout",
     "output_type": "stream",
     "text": [
      "nConteo de valores únicos en la columna 'nombre_columna':\n",
      "Survived\n",
      "0    549\n",
      "1    342\n",
      "Name: count, dtype: int64\n"
     ]
    }
   ],
   "source": [
    "# Contar valores únicos en una columna específica\n",
    "print(\"nConteo de valores únicos en la columna 'nombre_columna':\")\n",
    "print(df['Survived'].value_counts())\n"
   ]
  },
  {
   "cell_type": "code",
   "execution_count": 18,
   "metadata": {},
   "outputs": [
    {
     "name": "stdout",
     "output_type": "stream",
     "text": [
      "nValores únicos en la columna 'nombre_columna':\n",
      "['male' 'female']\n"
     ]
    }
   ],
   "source": [
    "# Obtener valores únicos en una columna específica\n",
    "print(\"nValores únicos en la columna 'nombre_columna':\")\n",
    "print(df['Sex'].unique())"
   ]
  },
  {
   "cell_type": "code",
   "execution_count": 21,
   "metadata": {},
   "outputs": [
    {
     "name": "stdout",
     "output_type": "stream",
     "text": [
      "nNúmero de valores únicos en la columna 'nombre_columna':\n",
      "2\n"
     ]
    }
   ],
   "source": [
    "# Obtener el número de valores únicos en una columna específica\n",
    "print(\"nNúmero de valores únicos en la columna 'nombre_columna':\")\n",
    "print(df['Sex'].nunique())\n"
   ]
  },
  {
   "cell_type": "code",
   "execution_count": 22,
   "metadata": {},
   "outputs": [
    {
     "name": "stdout",
     "output_type": "stream",
     "text": [
      "nDataFrame con columna renombrada:\n",
      "   PassengerId  Survived  Pclass  \\\n",
      "0            1         0       3   \n",
      "1            2         1       1   \n",
      "2            3         1       3   \n",
      "3            4         1       1   \n",
      "4            5         0       3   \n",
      "\n",
      "                                                Name     Sex   Age  SibSp  \\\n",
      "0                            Braund, Mr. Owen Harris    male  22.0      1   \n",
      "1  Cumings, Mrs. John Bradley (Florence Briggs Th...  female  38.0      1   \n",
      "2                             Heikkinen, Miss. Laina  female  26.0      0   \n",
      "3       Futrelle, Mrs. Jacques Heath (Lily May Peel)  female  35.0      1   \n",
      "4                           Allen, Mr. William Henry    male  35.0      0   \n",
      "\n",
      "   Parch            Ticket     Fare Cabin Embarked  \n",
      "0      0         A/5 21171   7.2500   NaN        S  \n",
      "1      0          PC 17599  71.2833   C85        C  \n",
      "2      0  STON/O2. 3101282   7.9250   NaN        S  \n",
      "3      0            113803  53.1000  C123        S  \n",
      "4      0            373450   8.0500   NaN        S  \n"
     ]
    }
   ],
   "source": [
    "# Renombrar una columna\n",
    "df.rename(columns={'columna_antigua': 'columna_nueva'}, inplace=True)\n",
    "print(\"nDataFrame con columna renombrada:\")\n",
    "print(df.head())"
   ]
  },
  {
   "cell_type": "code",
   "execution_count": 28,
   "metadata": {},
   "outputs": [
    {
     "name": "stdout",
     "output_type": "stream",
     "text": [
      "nDataFrame con nuevo índice:       PassengerId  Survived  Pclass  SibSp  Parch            Ticket     Fare  \\\n",
      "Age                                                                            \n",
      "22.0            1         0       3      1      0         A/5 21171   7.2500   \n",
      "38.0            2         1       1      1      0          PC 17599  71.2833   \n",
      "26.0            3         1       3      0      0  STON/O2. 3101282   7.9250   \n",
      "35.0            4         1       1      1      0            113803  53.1000   \n",
      "35.0            5         0       3      0      0            373450   8.0500   \n",
      "...           ...       ...     ...    ...    ...               ...      ...   \n",
      "27.0          887         0       2      0      0            211536  13.0000   \n",
      "19.0          888         1       1      0      0            112053  30.0000   \n",
      "NaN           889         0       3      1      2        W./C. 6607  23.4500   \n",
      "26.0          890         1       1      0      0            111369  30.0000   \n",
      "32.0          891         0       3      0      0            370376   7.7500   \n",
      "\n",
      "     Cabin Embarked  \n",
      "Age                  \n",
      "22.0   NaN        S  \n",
      "38.0   C85        C  \n",
      "26.0   NaN        S  \n",
      "35.0  C123        S  \n",
      "35.0   NaN        S  \n",
      "...    ...      ...  \n",
      "27.0   NaN        S  \n",
      "19.0   B42        S  \n",
      "NaN    NaN        S  \n",
      "26.0  C148        C  \n",
      "32.0   NaN        Q  \n",
      "\n",
      "[891 rows x 9 columns]\n",
      "      PassengerId  Survived  Pclass  SibSp  Parch            Ticket     Fare  \\\n",
      "Age                                                                            \n",
      "22.0            1         0       3      1      0         A/5 21171   7.2500   \n",
      "38.0            2         1       1      1      0          PC 17599  71.2833   \n",
      "26.0            3         1       3      0      0  STON/O2. 3101282   7.9250   \n",
      "35.0            4         1       1      1      0            113803  53.1000   \n",
      "35.0            5         0       3      0      0            373450   8.0500   \n",
      "\n",
      "     Cabin Embarked  \n",
      "Age                  \n",
      "22.0   NaN        S  \n",
      "38.0   C85        C  \n",
      "26.0   NaN        S  \n",
      "35.0  C123        S  \n",
      "35.0   NaN        S  \n"
     ]
    }
   ],
   "source": [
    "# Cambiar el índice del DataFrame\n",
    "df.set_index('Age', inplace=True)\n",
    "print(\"nDataFrame con nuevo índice:\",df)\n",
    "print(df.head())\n"
   ]
  },
  {
   "cell_type": "code",
   "execution_count": 33,
   "metadata": {},
   "outputs": [
    {
     "name": "stdout",
     "output_type": "stream",
     "text": [
      "nDataFrame ordenado por 'columna_orden':\n",
      "      PassengerId  Survived  Pclass  SibSp  Parch  Ticket     Fare Cabin  \\\n",
      "Age                                                                        \n",
      "0.42          804         1       3      0      1    2625   8.5167   NaN   \n",
      "0.67          756         1       2      1      1  250649  14.5000   NaN   \n",
      "0.75          645         1       3      2      1    2666  19.2583   NaN   \n",
      "0.75          470         1       3      2      1    2666  19.2583   NaN   \n",
      "0.83           79         1       2      0      2  248738  29.0000   NaN   \n",
      "\n",
      "     Embarked  \n",
      "Age            \n",
      "0.42        C  \n",
      "0.67        S  \n",
      "0.75        C  \n",
      "0.75        C  \n",
      "0.83        S  \n"
     ]
    }
   ],
   "source": [
    "\n",
    "# Ordenar el DataFrame por una columna\n",
    "df_ordenado = df.sort_values(by=['Age'])\n",
    "print(\"nDataFrame ordenado por 'columna_orden':\")\n",
    "print(df_ordenado.head())\n"
   ]
  },
  {
   "cell_type": "code",
   "execution_count": 37,
   "metadata": {},
   "outputs": [
    {
     "name": "stdout",
     "output_type": "stream",
     "text": [
      "nDataFrame ordenado por 'columna1' y 'columna2':\n",
      "      PassengerId  Survived  Pclass  SibSp  Parch    Ticket     Fare Cabin  \\\n",
      "Age                                                                          \n",
      "80.0          631         1       1      0      0     27042  30.0000   A23   \n",
      "74.0          852         0       3      0      0    347060   7.7750   NaN   \n",
      "71.0           97         0       1      0      0  PC 17754  34.6542    A5   \n",
      "71.0          494         0       1      0      0  PC 17609  49.5042   NaN   \n",
      "70.5          117         0       3      0      0    370369   7.7500   NaN   \n",
      "\n",
      "     Embarked  \n",
      "Age            \n",
      "80.0        S  \n",
      "74.0        S  \n",
      "71.0        C  \n",
      "71.0        C  \n",
      "70.5        Q  \n"
     ]
    }
   ],
   "source": [
    "\n",
    "# Ordenar el DataFrame por múltiples columnas\n",
    "df_ordenado_multi = df.sort_values(by=['Age', 'Parch'], ascending=[False, True])\n",
    "print(\"nDataFrame ordenado por 'columna1' y 'columna2':\")\n",
    "print(df_ordenado_multi.head())"
   ]
  }
 ],
 "metadata": {
  "kernelspec": {
   "display_name": "Python 3",
   "language": "python",
   "name": "python3"
  },
  "language_info": {
   "codemirror_mode": {
    "name": "ipython",
    "version": 3
   },
   "file_extension": ".py",
   "mimetype": "text/x-python",
   "name": "python",
   "nbconvert_exporter": "python",
   "pygments_lexer": "ipython3",
   "version": "3.12.7"
  }
 },
 "nbformat": 4,
 "nbformat_minor": 2
}
