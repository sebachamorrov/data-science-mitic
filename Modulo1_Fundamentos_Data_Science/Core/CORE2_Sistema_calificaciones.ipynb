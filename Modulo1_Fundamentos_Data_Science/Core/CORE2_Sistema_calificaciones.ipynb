{
 "cells": [
  {
   "cell_type": "markdown",
   "metadata": {},
   "source": [
    "# Sistema de Calificaciones (Core)"
   ]
  },
  {
   "cell_type": "code",
   "execution_count": 9,
   "metadata": {},
   "outputs": [
    {
     "name": "stdout",
     "output_type": "stream",
     "text": [
      "Resumen de calificaciones\n",
      "Nombre: Seby, Promedio: 8.0, Estado: Aprobado\n",
      "Nombre: Menchi, Promedio: 5.3, Estado: Reprobado\n",
      "Nombre: Joaco, Promedio: 4.0, Estado: Reprobado\n"
     ]
    }
   ],
   "source": [
    "def obtener_numero_estudiantes():\n",
    "    numero_estudiantes = int(input(\"Ingrese la cantidad de estudiantes:\"))\n",
    "    return numero_estudiantes\n",
    "\n",
    "\n",
    "\n",
    "def obtener_nombre_estudiante():\n",
    "    estudiantes = (input(\"Ingrese el nombre de los estudiantes:\"))\n",
    "    return estudiantes\n",
    "\n",
    "\n",
    "\n",
    "def obtener_numero_asignaturas():\n",
    "    numero_asignaturas = int(input(\"Ingrese la cantidad de asignaturas:\"))\n",
    "    return numero_asignaturas\n",
    "\n",
    "\n",
    "\n",
    "def obtener_calificaciones(cant_asignaturas):\n",
    "    calificacion = []\n",
    "    for i in range(cant_asignaturas):\n",
    "        calificacion.append(int(input(f\"Ingrese la calificación de la asignatura {i}:\")))\n",
    "    return calificacion\n",
    "\n",
    "\n",
    "\n",
    "def calcular_promedio(calificaciones):\n",
    "    promedio = round((sum(calificaciones)/cant_asignaturas),1)\n",
    "    return promedio\n",
    "\n",
    "\n",
    "\n",
    "def determinar_estado(calificacion_promedio):\n",
    "    if calificacion_promedio >= 7.0:\n",
    "        estado = \"Aprobado\"\n",
    "    else:\n",
    "        estado = \"Reprobado\"\n",
    "    return estado\n",
    "\n",
    "\n",
    "\n",
    "def imprimir_resumen(lista_estudiantes):\n",
    "    print(\"Resumen de calificaciones\")\n",
    "    for estudiantes in lista_estudiantes:\n",
    "        print(f\"Nombre: {estudiantes['nombre']}, Promedio: {estudiantes['promedio']}, Estado: {estudiantes['estado']}\")\n",
    "\n",
    "\n",
    "\n",
    "cant_estudiantes = obtener_numero_estudiantes()\n",
    "lista_estudiantes = []\n",
    "\n",
    "for estudiantes in range(cant_estudiantes):\n",
    "    nombre = obtener_nombre_estudiante()\n",
    "    cant_asignaturas = obtener_numero_asignaturas()\n",
    "    calificaciones = obtener_calificaciones(cant_asignaturas)\n",
    "    calificacion_promedio = calcular_promedio(calificaciones)\n",
    "    status = determinar_estado(calificacion_promedio)\n",
    "    \n",
    "    lista_estudiantes.append({\n",
    "        'nombre': nombre,\n",
    "        'promedio': calificacion_promedio,\n",
    "        'estado': status\n",
    "    })\n",
    "\n",
    "imprimir_resumen(lista_estudiantes)\n",
    "\n",
    "# Falta incluir validaciones"
   ]
  }
 ],
 "metadata": {
  "kernelspec": {
   "display_name": "Python 3",
   "language": "python",
   "name": "python3"
  },
  "language_info": {
   "codemirror_mode": {
    "name": "ipython",
    "version": 3
   },
   "file_extension": ".py",
   "mimetype": "text/x-python",
   "name": "python",
   "nbconvert_exporter": "python",
   "pygments_lexer": "ipython3",
   "version": "3.12.7"
  }
 },
 "nbformat": 4,
 "nbformat_minor": 2
}
