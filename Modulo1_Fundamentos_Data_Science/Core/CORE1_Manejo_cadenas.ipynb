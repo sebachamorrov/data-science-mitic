{
 "cells": [
  {
   "cell_type": "markdown",
   "metadata": {},
   "source": [
    "# Core1 Manejo de Cadenas"
   ]
  },
  {
   "cell_type": "markdown",
   "metadata": {},
   "source": [
    "### Ejercicio 1: Saludo Personalizado\n",
    "\n",
    "- Crea un programa que pida al usuario su nombre y edad, y luego imprima un saludo personalizado.\n",
    "- Usa input para capturar el nombre y la edad.\n",
    "- Usa print para mostrar el saludo."
   ]
  },
  {
   "cell_type": "code",
   "execution_count": 1,
   "metadata": {},
   "outputs": [
    {
     "name": "stdout",
     "output_type": "stream",
     "text": [
      "Hola Seby\n",
      "Genial! Seby, entonces tienes 29 años!\n"
     ]
    }
   ],
   "source": [
    "nombre = input(\"¿Cuál es tu nombre?\")\n",
    "print(\"Hola \" + nombre)\n",
    "\n",
    "edad = input(\"Y cuál es tu edad\")\n",
    "print(f\"Genial! {nombre}, entonces tienes {edad} años!\")"
   ]
  },
  {
   "cell_type": "markdown",
   "metadata": {},
   "source": [
    "### Ejercicio 2: Manipulación de Cadenas\n",
    "\n",
    "- Crea una cadena con tu nombre completo.\n",
    "- Usa los métodos de cadenas para:\n",
    "  - Convertir el nombre a mayúsculas y minúsculas.\n",
    "  - Contar el número de letras en tu nombre.\n",
    "  - Reemplazar tu primer nombre por otro nombre."
   ]
  },
  {
   "cell_type": "code",
   "execution_count": 10,
   "metadata": {},
   "outputs": [
    {
     "name": "stdout",
     "output_type": "stream",
     "text": [
      "Seby Chamorro\n",
      "SEBY CHAMORRO\n",
      "seby chamorro\n",
      "4\n",
      "Manuel\n"
     ]
    }
   ],
   "source": [
    "nombre = \"Seby\"\n",
    "apellido = \"Chamorro\"\n",
    "\n",
    "nombre_completo = nombre + \" \" + apellido\n",
    "print(nombre_completo)\n",
    "print(nombre_completo.upper())\n",
    "print(nombre_completo.lower())\n",
    "print(len(nombre))\n",
    "nombre_nuevo = nombre.replace(\"Seby\", \"Manuel\")\n",
    "print(nombre_nuevo)"
   ]
  },
  {
   "cell_type": "markdown",
   "metadata": {},
   "source": [
    "### Ejercicio 3: Lista de Nombres\n",
    "\n",
    "- Pide al usuario que ingrese una lista de nombres separados por comas.\n",
    "- Usa split para convertir esta cadena en una lista de nombres.\n",
    "- Imprime cada nombre en una línea separada."
   ]
  },
  {
   "cell_type": "code",
   "execution_count": 15,
   "metadata": {},
   "outputs": [
    {
     "name": "stdout",
     "output_type": "stream",
     "text": [
      "seby, menchi, jaz\n",
      "['seby', 'menchi', 'jaz']\n",
      "seby\n",
      "menchi\n",
      "jaz\n"
     ]
    }
   ],
   "source": [
    "lista1 = input(\"Hola! necesitamos que ingreses una lista de nombres separados por coma\")\n",
    "print(lista1)\n",
    "lista2 = lista1.split(\", \")\n",
    "print(lista2)\n",
    "print(lista2[0])\n",
    "print(lista2[1])\n",
    "print(lista2[2])"
   ]
  }
 ],
 "metadata": {
  "kernelspec": {
   "display_name": "Python 3",
   "language": "python",
   "name": "python3"
  },
  "language_info": {
   "codemirror_mode": {
    "name": "ipython",
    "version": 3
   },
   "file_extension": ".py",
   "mimetype": "text/x-python",
   "name": "python",
   "nbconvert_exporter": "python",
   "pygments_lexer": "ipython3",
   "version": "3.12.7"
  }
 },
 "nbformat": 4,
 "nbformat_minor": 2
}
