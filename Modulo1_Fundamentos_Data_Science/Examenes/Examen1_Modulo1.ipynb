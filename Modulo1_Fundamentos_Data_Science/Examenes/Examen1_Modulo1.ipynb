{
 "cells": [
  {
   "cell_type": "markdown",
   "metadata": {},
   "source": [
    "# Analizando los Salarios en Ciencia de Datos en 2023"
   ]
  },
  {
   "cell_type": "markdown",
   "metadata": {},
   "source": [
    "## 1- Limpieza de datos"
   ]
  },
  {
   "cell_type": "markdown",
   "metadata": {},
   "source": [
    "#### 1.1 Detección y eliminación de valores duplicados:"
   ]
  },
  {
   "cell_type": "code",
   "execution_count": 372,
   "metadata": {},
   "outputs": [
    {
     "data": {
      "text/html": [
       "<div>\n",
       "<style scoped>\n",
       "    .dataframe tbody tr th:only-of-type {\n",
       "        vertical-align: middle;\n",
       "    }\n",
       "\n",
       "    .dataframe tbody tr th {\n",
       "        vertical-align: top;\n",
       "    }\n",
       "\n",
       "    .dataframe thead th {\n",
       "        text-align: right;\n",
       "    }\n",
       "</style>\n",
       "<table border=\"1\" class=\"dataframe\">\n",
       "  <thead>\n",
       "    <tr style=\"text-align: right;\">\n",
       "      <th></th>\n",
       "      <th>work_year</th>\n",
       "      <th>experience_level</th>\n",
       "      <th>employment_type</th>\n",
       "      <th>job_title</th>\n",
       "      <th>salary</th>\n",
       "      <th>salary_currency</th>\n",
       "      <th>salary_in_usd</th>\n",
       "      <th>employee_residence</th>\n",
       "      <th>remote_ratio</th>\n",
       "      <th>company_location</th>\n",
       "      <th>company_size</th>\n",
       "    </tr>\n",
       "  </thead>\n",
       "  <tbody>\n",
       "    <tr>\n",
       "      <th>0</th>\n",
       "      <td>2023</td>\n",
       "      <td>SE</td>\n",
       "      <td>FT</td>\n",
       "      <td>Principal Data Scientist</td>\n",
       "      <td>80000</td>\n",
       "      <td>EUR</td>\n",
       "      <td>85847</td>\n",
       "      <td>ES</td>\n",
       "      <td>100</td>\n",
       "      <td>ES</td>\n",
       "      <td>L</td>\n",
       "    </tr>\n",
       "    <tr>\n",
       "      <th>1</th>\n",
       "      <td>2023</td>\n",
       "      <td>MI</td>\n",
       "      <td>CT</td>\n",
       "      <td>ML Engineer</td>\n",
       "      <td>30000</td>\n",
       "      <td>USD</td>\n",
       "      <td>30000</td>\n",
       "      <td>US</td>\n",
       "      <td>100</td>\n",
       "      <td>US</td>\n",
       "      <td>S</td>\n",
       "    </tr>\n",
       "    <tr>\n",
       "      <th>2</th>\n",
       "      <td>2023</td>\n",
       "      <td>MI</td>\n",
       "      <td>CT</td>\n",
       "      <td>ML Engineer</td>\n",
       "      <td>25500</td>\n",
       "      <td>USD</td>\n",
       "      <td>25500</td>\n",
       "      <td>US</td>\n",
       "      <td>100</td>\n",
       "      <td>US</td>\n",
       "      <td>S</td>\n",
       "    </tr>\n",
       "    <tr>\n",
       "      <th>3</th>\n",
       "      <td>2023</td>\n",
       "      <td>SE</td>\n",
       "      <td>FT</td>\n",
       "      <td>Data Scientist</td>\n",
       "      <td>175000</td>\n",
       "      <td>USD</td>\n",
       "      <td>175000</td>\n",
       "      <td>CA</td>\n",
       "      <td>100</td>\n",
       "      <td>CA</td>\n",
       "      <td>M</td>\n",
       "    </tr>\n",
       "    <tr>\n",
       "      <th>4</th>\n",
       "      <td>2023</td>\n",
       "      <td>SE</td>\n",
       "      <td>FT</td>\n",
       "      <td>Data Scientist</td>\n",
       "      <td>120000</td>\n",
       "      <td>USD</td>\n",
       "      <td>120000</td>\n",
       "      <td>CA</td>\n",
       "      <td>100</td>\n",
       "      <td>CA</td>\n",
       "      <td>M</td>\n",
       "    </tr>\n",
       "    <tr>\n",
       "      <th>5</th>\n",
       "      <td>2023</td>\n",
       "      <td>SE</td>\n",
       "      <td>FT</td>\n",
       "      <td>Applied Scientist</td>\n",
       "      <td>222200</td>\n",
       "      <td>USD</td>\n",
       "      <td>222200</td>\n",
       "      <td>US</td>\n",
       "      <td>0</td>\n",
       "      <td>US</td>\n",
       "      <td>L</td>\n",
       "    </tr>\n",
       "    <tr>\n",
       "      <th>6</th>\n",
       "      <td>2023</td>\n",
       "      <td>SE</td>\n",
       "      <td>FT</td>\n",
       "      <td>Applied Scientist</td>\n",
       "      <td>136000</td>\n",
       "      <td>USD</td>\n",
       "      <td>136000</td>\n",
       "      <td>US</td>\n",
       "      <td>0</td>\n",
       "      <td>US</td>\n",
       "      <td>L</td>\n",
       "    </tr>\n",
       "    <tr>\n",
       "      <th>7</th>\n",
       "      <td>2023</td>\n",
       "      <td>SE</td>\n",
       "      <td>FT</td>\n",
       "      <td>Data Scientist</td>\n",
       "      <td>219000</td>\n",
       "      <td>USD</td>\n",
       "      <td>219000</td>\n",
       "      <td>CA</td>\n",
       "      <td>0</td>\n",
       "      <td>CA</td>\n",
       "      <td>M</td>\n",
       "    </tr>\n",
       "    <tr>\n",
       "      <th>8</th>\n",
       "      <td>2023</td>\n",
       "      <td>SE</td>\n",
       "      <td>FT</td>\n",
       "      <td>Data Scientist</td>\n",
       "      <td>141000</td>\n",
       "      <td>USD</td>\n",
       "      <td>141000</td>\n",
       "      <td>CA</td>\n",
       "      <td>0</td>\n",
       "      <td>CA</td>\n",
       "      <td>M</td>\n",
       "    </tr>\n",
       "    <tr>\n",
       "      <th>9</th>\n",
       "      <td>2023</td>\n",
       "      <td>SE</td>\n",
       "      <td>FT</td>\n",
       "      <td>Data Scientist</td>\n",
       "      <td>147100</td>\n",
       "      <td>USD</td>\n",
       "      <td>147100</td>\n",
       "      <td>US</td>\n",
       "      <td>0</td>\n",
       "      <td>US</td>\n",
       "      <td>M</td>\n",
       "    </tr>\n",
       "  </tbody>\n",
       "</table>\n",
       "</div>"
      ],
      "text/plain": [
       "   work_year experience_level employment_type                 job_title  \\\n",
       "0       2023               SE              FT  Principal Data Scientist   \n",
       "1       2023               MI              CT               ML Engineer   \n",
       "2       2023               MI              CT               ML Engineer   \n",
       "3       2023               SE              FT            Data Scientist   \n",
       "4       2023               SE              FT            Data Scientist   \n",
       "5       2023               SE              FT         Applied Scientist   \n",
       "6       2023               SE              FT         Applied Scientist   \n",
       "7       2023               SE              FT            Data Scientist   \n",
       "8       2023               SE              FT            Data Scientist   \n",
       "9       2023               SE              FT            Data Scientist   \n",
       "\n",
       "   salary salary_currency  salary_in_usd employee_residence  remote_ratio  \\\n",
       "0   80000             EUR          85847                 ES           100   \n",
       "1   30000             USD          30000                 US           100   \n",
       "2   25500             USD          25500                 US           100   \n",
       "3  175000             USD         175000                 CA           100   \n",
       "4  120000             USD         120000                 CA           100   \n",
       "5  222200             USD         222200                 US             0   \n",
       "6  136000             USD         136000                 US             0   \n",
       "7  219000             USD         219000                 CA             0   \n",
       "8  141000             USD         141000                 CA             0   \n",
       "9  147100             USD         147100                 US             0   \n",
       "\n",
       "  company_location company_size  \n",
       "0               ES            L  \n",
       "1               US            S  \n",
       "2               US            S  \n",
       "3               CA            M  \n",
       "4               CA            M  \n",
       "5               US            L  \n",
       "6               US            L  \n",
       "7               CA            M  \n",
       "8               CA            M  \n",
       "9               US            M  "
      ]
     },
     "execution_count": 372,
     "metadata": {},
     "output_type": "execute_result"
    }
   ],
   "source": [
    "import pandas as pd\n",
    "import numpy as np\n",
    "import matplotlib.pyplot as plt\n",
    "\n",
    "# Se lee los primeros 10 registros del dataset \n",
    "df = pd.read_csv(filepath_or_buffer=('C:/Users/sebac/OneDrive/Documentos/Cursos/0-DATASETS/ds_salaries.csv'))\n",
    "df.head(10)"
   ]
  },
  {
   "cell_type": "code",
   "execution_count": 373,
   "metadata": {},
   "outputs": [
    {
     "data": {
      "text/plain": [
       "np.int64(3755)"
      ]
     },
     "execution_count": 373,
     "metadata": {},
     "output_type": "execute_result"
    }
   ],
   "source": [
    "#Se valida la cantidad de registros antes de eliminar duplicados si es que hay\n",
    "df.value_counts().sum()"
   ]
  },
  {
   "cell_type": "code",
   "execution_count": 374,
   "metadata": {},
   "outputs": [
    {
     "data": {
      "text/plain": [
       "np.int64(1171)"
      ]
     },
     "execution_count": 374,
     "metadata": {},
     "output_type": "execute_result"
    }
   ],
   "source": [
    "# Se valida la cantidad de registros duplicados\n",
    "df.duplicated().sum()\n",
    "\n",
    "# En este punto se debe valdiar con los stakeholders si es que son registros unicos que corresponden a personas individuales\n",
    "# ahí no correspondería eliminar los duplicados porque sí podría haber muchas personas con las mismas condiciones.\n",
    "\n",
    "# Para este análisis se consideran duplicados ya que no tenemos un id que identifique a cada persona para saber si un registro con las mismas condiciones corresponde o no a la misma persona"
   ]
  },
  {
   "cell_type": "code",
   "execution_count": 375,
   "metadata": {},
   "outputs": [
    {
     "data": {
      "text/html": [
       "<div>\n",
       "<style scoped>\n",
       "    .dataframe tbody tr th:only-of-type {\n",
       "        vertical-align: middle;\n",
       "    }\n",
       "\n",
       "    .dataframe tbody tr th {\n",
       "        vertical-align: top;\n",
       "    }\n",
       "\n",
       "    .dataframe thead th {\n",
       "        text-align: right;\n",
       "    }\n",
       "</style>\n",
       "<table border=\"1\" class=\"dataframe\">\n",
       "  <thead>\n",
       "    <tr style=\"text-align: right;\">\n",
       "      <th></th>\n",
       "      <th>work_year</th>\n",
       "      <th>experience_level</th>\n",
       "      <th>employment_type</th>\n",
       "      <th>job_title</th>\n",
       "      <th>salary</th>\n",
       "      <th>salary_currency</th>\n",
       "      <th>salary_in_usd</th>\n",
       "      <th>employee_residence</th>\n",
       "      <th>remote_ratio</th>\n",
       "      <th>company_location</th>\n",
       "      <th>company_size</th>\n",
       "    </tr>\n",
       "  </thead>\n",
       "  <tbody>\n",
       "    <tr>\n",
       "      <th>0</th>\n",
       "      <td>2023</td>\n",
       "      <td>SE</td>\n",
       "      <td>FT</td>\n",
       "      <td>Principal Data Scientist</td>\n",
       "      <td>80000</td>\n",
       "      <td>EUR</td>\n",
       "      <td>85847</td>\n",
       "      <td>ES</td>\n",
       "      <td>100</td>\n",
       "      <td>ES</td>\n",
       "      <td>L</td>\n",
       "    </tr>\n",
       "    <tr>\n",
       "      <th>1</th>\n",
       "      <td>2023</td>\n",
       "      <td>MI</td>\n",
       "      <td>CT</td>\n",
       "      <td>ML Engineer</td>\n",
       "      <td>30000</td>\n",
       "      <td>USD</td>\n",
       "      <td>30000</td>\n",
       "      <td>US</td>\n",
       "      <td>100</td>\n",
       "      <td>US</td>\n",
       "      <td>S</td>\n",
       "    </tr>\n",
       "    <tr>\n",
       "      <th>2</th>\n",
       "      <td>2023</td>\n",
       "      <td>MI</td>\n",
       "      <td>CT</td>\n",
       "      <td>ML Engineer</td>\n",
       "      <td>25500</td>\n",
       "      <td>USD</td>\n",
       "      <td>25500</td>\n",
       "      <td>US</td>\n",
       "      <td>100</td>\n",
       "      <td>US</td>\n",
       "      <td>S</td>\n",
       "    </tr>\n",
       "    <tr>\n",
       "      <th>3</th>\n",
       "      <td>2023</td>\n",
       "      <td>SE</td>\n",
       "      <td>FT</td>\n",
       "      <td>Data Scientist</td>\n",
       "      <td>175000</td>\n",
       "      <td>USD</td>\n",
       "      <td>175000</td>\n",
       "      <td>CA</td>\n",
       "      <td>100</td>\n",
       "      <td>CA</td>\n",
       "      <td>M</td>\n",
       "    </tr>\n",
       "    <tr>\n",
       "      <th>4</th>\n",
       "      <td>2023</td>\n",
       "      <td>SE</td>\n",
       "      <td>FT</td>\n",
       "      <td>Data Scientist</td>\n",
       "      <td>120000</td>\n",
       "      <td>USD</td>\n",
       "      <td>120000</td>\n",
       "      <td>CA</td>\n",
       "      <td>100</td>\n",
       "      <td>CA</td>\n",
       "      <td>M</td>\n",
       "    </tr>\n",
       "    <tr>\n",
       "      <th>...</th>\n",
       "      <td>...</td>\n",
       "      <td>...</td>\n",
       "      <td>...</td>\n",
       "      <td>...</td>\n",
       "      <td>...</td>\n",
       "      <td>...</td>\n",
       "      <td>...</td>\n",
       "      <td>...</td>\n",
       "      <td>...</td>\n",
       "      <td>...</td>\n",
       "      <td>...</td>\n",
       "    </tr>\n",
       "    <tr>\n",
       "      <th>3750</th>\n",
       "      <td>2020</td>\n",
       "      <td>SE</td>\n",
       "      <td>FT</td>\n",
       "      <td>Data Scientist</td>\n",
       "      <td>412000</td>\n",
       "      <td>USD</td>\n",
       "      <td>412000</td>\n",
       "      <td>US</td>\n",
       "      <td>100</td>\n",
       "      <td>US</td>\n",
       "      <td>L</td>\n",
       "    </tr>\n",
       "    <tr>\n",
       "      <th>3751</th>\n",
       "      <td>2021</td>\n",
       "      <td>MI</td>\n",
       "      <td>FT</td>\n",
       "      <td>Principal Data Scientist</td>\n",
       "      <td>151000</td>\n",
       "      <td>USD</td>\n",
       "      <td>151000</td>\n",
       "      <td>US</td>\n",
       "      <td>100</td>\n",
       "      <td>US</td>\n",
       "      <td>L</td>\n",
       "    </tr>\n",
       "    <tr>\n",
       "      <th>3752</th>\n",
       "      <td>2020</td>\n",
       "      <td>EN</td>\n",
       "      <td>FT</td>\n",
       "      <td>Data Scientist</td>\n",
       "      <td>105000</td>\n",
       "      <td>USD</td>\n",
       "      <td>105000</td>\n",
       "      <td>US</td>\n",
       "      <td>100</td>\n",
       "      <td>US</td>\n",
       "      <td>S</td>\n",
       "    </tr>\n",
       "    <tr>\n",
       "      <th>3753</th>\n",
       "      <td>2020</td>\n",
       "      <td>EN</td>\n",
       "      <td>CT</td>\n",
       "      <td>Business Data Analyst</td>\n",
       "      <td>100000</td>\n",
       "      <td>USD</td>\n",
       "      <td>100000</td>\n",
       "      <td>US</td>\n",
       "      <td>100</td>\n",
       "      <td>US</td>\n",
       "      <td>L</td>\n",
       "    </tr>\n",
       "    <tr>\n",
       "      <th>3754</th>\n",
       "      <td>2021</td>\n",
       "      <td>SE</td>\n",
       "      <td>FT</td>\n",
       "      <td>Data Science Manager</td>\n",
       "      <td>7000000</td>\n",
       "      <td>INR</td>\n",
       "      <td>94665</td>\n",
       "      <td>IN</td>\n",
       "      <td>50</td>\n",
       "      <td>IN</td>\n",
       "      <td>L</td>\n",
       "    </tr>\n",
       "  </tbody>\n",
       "</table>\n",
       "<p>2584 rows × 11 columns</p>\n",
       "</div>"
      ],
      "text/plain": [
       "      work_year experience_level employment_type                 job_title  \\\n",
       "0          2023               SE              FT  Principal Data Scientist   \n",
       "1          2023               MI              CT               ML Engineer   \n",
       "2          2023               MI              CT               ML Engineer   \n",
       "3          2023               SE              FT            Data Scientist   \n",
       "4          2023               SE              FT            Data Scientist   \n",
       "...         ...              ...             ...                       ...   \n",
       "3750       2020               SE              FT            Data Scientist   \n",
       "3751       2021               MI              FT  Principal Data Scientist   \n",
       "3752       2020               EN              FT            Data Scientist   \n",
       "3753       2020               EN              CT     Business Data Analyst   \n",
       "3754       2021               SE              FT      Data Science Manager   \n",
       "\n",
       "       salary salary_currency  salary_in_usd employee_residence  remote_ratio  \\\n",
       "0       80000             EUR          85847                 ES           100   \n",
       "1       30000             USD          30000                 US           100   \n",
       "2       25500             USD          25500                 US           100   \n",
       "3      175000             USD         175000                 CA           100   \n",
       "4      120000             USD         120000                 CA           100   \n",
       "...       ...             ...            ...                ...           ...   \n",
       "3750   412000             USD         412000                 US           100   \n",
       "3751   151000             USD         151000                 US           100   \n",
       "3752   105000             USD         105000                 US           100   \n",
       "3753   100000             USD         100000                 US           100   \n",
       "3754  7000000             INR          94665                 IN            50   \n",
       "\n",
       "     company_location company_size  \n",
       "0                  ES            L  \n",
       "1                  US            S  \n",
       "2                  US            S  \n",
       "3                  CA            M  \n",
       "4                  CA            M  \n",
       "...               ...          ...  \n",
       "3750               US            L  \n",
       "3751               US            L  \n",
       "3752               US            S  \n",
       "3753               US            L  \n",
       "3754               IN            L  \n",
       "\n",
       "[2584 rows x 11 columns]"
      ]
     },
     "execution_count": 375,
     "metadata": {},
     "output_type": "execute_result"
    }
   ],
   "source": [
    "# Luego de validar que existen 1171 duplicados, se procede a la eliminación, manteniendo el primer registro.\n",
    "df = df.drop_duplicates(keep='first')\n",
    "df"
   ]
  },
  {
   "cell_type": "markdown",
   "metadata": {},
   "source": [
    "Fueron eliminados 1.171 registros duplicados. Como fuente se obtuvo el uso de drop_duplicate de la doc oficial de pandas https://pandas.pydata.org/pandas-docs/stable/reference/api/pandas.DataFrame.drop_duplicates.html"
   ]
  },
  {
   "cell_type": "code",
   "execution_count": 376,
   "metadata": {},
   "outputs": [
    {
     "data": {
      "text/plain": [
       "np.int64(2584)"
      ]
     },
     "execution_count": 376,
     "metadata": {},
     "output_type": "execute_result"
    }
   ],
   "source": [
    "# Se valida la cantidad de registros posterior a la eliminación de valores duplicados\n",
    "df.value_counts().sum()"
   ]
  },
  {
   "cell_type": "markdown",
   "metadata": {},
   "source": [
    "#### 1.2 Verificación y ajuste de tipos de datos:"
   ]
  },
  {
   "cell_type": "code",
   "execution_count": 377,
   "metadata": {},
   "outputs": [
    {
     "name": "stdout",
     "output_type": "stream",
     "text": [
      "<class 'pandas.core.frame.DataFrame'>\n",
      "Index: 2584 entries, 0 to 3754\n",
      "Data columns (total 11 columns):\n",
      " #   Column              Non-Null Count  Dtype \n",
      "---  ------              --------------  ----- \n",
      " 0   work_year           2584 non-null   int64 \n",
      " 1   experience_level    2584 non-null   object\n",
      " 2   employment_type     2584 non-null   object\n",
      " 3   job_title           2584 non-null   object\n",
      " 4   salary              2584 non-null   int64 \n",
      " 5   salary_currency     2584 non-null   object\n",
      " 6   salary_in_usd       2584 non-null   int64 \n",
      " 7   employee_residence  2584 non-null   object\n",
      " 8   remote_ratio        2584 non-null   int64 \n",
      " 9   company_location    2584 non-null   object\n",
      " 10  company_size        2584 non-null   object\n",
      "dtypes: int64(4), object(7)\n",
      "memory usage: 242.2+ KB\n"
     ]
    }
   ],
   "source": [
    "df_dict = df.info()\n",
    "# Se verifica los datos del dataframe y sus tipos de datos."
   ]
  },
  {
   "cell_type": "code",
   "execution_count": 378,
   "metadata": {},
   "outputs": [
    {
     "data": {
      "text/plain": [
       "work_year              int64\n",
       "experience_level      object\n",
       "employment_type       object\n",
       "job_title             object\n",
       "salary                 int64\n",
       "salary_currency       object\n",
       "salary_in_usd          int64\n",
       "employee_residence    object\n",
       "remote_ratio           int64\n",
       "company_location      object\n",
       "company_size          object\n",
       "dtype: object"
      ]
     },
     "execution_count": 378,
     "metadata": {},
     "output_type": "execute_result"
    }
   ],
   "source": [
    "df.dtypes"
   ]
  },
  {
   "cell_type": "markdown",
   "metadata": {},
   "source": [
    "Se verifican los tipos de datos de las diferentes columnas, y se ven correctos."
   ]
  },
  {
   "cell_type": "markdown",
   "metadata": {},
   "source": [
    "#### 1.3 Consistencia en valores categóricos:"
   ]
  },
  {
   "cell_type": "code",
   "execution_count": 379,
   "metadata": {},
   "outputs": [
    {
     "name": "stdout",
     "output_type": "stream",
     "text": [
      "experience_level\n",
      "SE    1554\n",
      "MI     664\n",
      "EN     270\n",
      "EX      96\n",
      "Name: count, dtype: int64\n",
      "employment_type\n",
      "FT    2547\n",
      "PT      17\n",
      "CT      10\n",
      "FL      10\n",
      "Name: count, dtype: int64\n",
      "company_size\n",
      "M    2028\n",
      "L     409\n",
      "S     147\n",
      "Name: count, dtype: int64\n"
     ]
    }
   ],
   "source": [
    "# Se imprimen la cantidad por cada valor categorico para ver si hay un mismo valor escrito de diferentes maneras.\n",
    "df_objects = df.select_dtypes(object)\n",
    "print(df_objects['experience_level'].value_counts())\n",
    "print(df_objects['employment_type'].value_counts())\n",
    "print(df_objects['company_size'].value_counts())"
   ]
  },
  {
   "cell_type": "markdown",
   "metadata": {},
   "source": [
    "En los valores categoricos no se observan inconsistencias"
   ]
  },
  {
   "cell_type": "markdown",
   "metadata": {},
   "source": [
    "#### 1.4 Manejo de valores faltantes:"
   ]
  },
  {
   "cell_type": "code",
   "execution_count": 380,
   "metadata": {},
   "outputs": [
    {
     "name": "stdout",
     "output_type": "stream",
     "text": [
      "<class 'pandas.core.frame.DataFrame'>\n",
      "Index: 2584 entries, 0 to 3754\n",
      "Data columns (total 11 columns):\n",
      " #   Column              Non-Null Count  Dtype \n",
      "---  ------              --------------  ----- \n",
      " 0   work_year           2584 non-null   int64 \n",
      " 1   experience_level    2584 non-null   object\n",
      " 2   employment_type     2584 non-null   object\n",
      " 3   job_title           2584 non-null   object\n",
      " 4   salary              2584 non-null   int64 \n",
      " 5   salary_currency     2584 non-null   object\n",
      " 6   salary_in_usd       2584 non-null   int64 \n",
      " 7   employee_residence  2584 non-null   object\n",
      " 8   remote_ratio        2584 non-null   int64 \n",
      " 9   company_location    2584 non-null   object\n",
      " 10  company_size        2584 non-null   object\n",
      "dtypes: int64(4), object(7)\n",
      "memory usage: 242.2+ KB\n"
     ]
    }
   ],
   "source": [
    "df.info()"
   ]
  },
  {
   "cell_type": "code",
   "execution_count": 381,
   "metadata": {},
   "outputs": [
    {
     "name": "stdout",
     "output_type": "stream",
     "text": [
      "work_year             0\n",
      "experience_level      0\n",
      "employment_type       0\n",
      "job_title             0\n",
      "salary                0\n",
      "salary_currency       0\n",
      "salary_in_usd         0\n",
      "employee_residence    0\n",
      "remote_ratio          0\n",
      "company_location      0\n",
      "company_size          0\n",
      "dtype: int64\n"
     ]
    }
   ],
   "source": [
    "print(df.isnull().sum())\n",
    "# de la plataforma, en el apartado \"Limpieza de datos y manejo de datos faltantes (Nulos)\""
   ]
  },
  {
   "cell_type": "markdown",
   "metadata": {},
   "source": [
    "No se observan valores faltantes en el dataset"
   ]
  },
  {
   "cell_type": "markdown",
   "metadata": {},
   "source": [
    "#### 1.5 Detección de datos anómalos:"
   ]
  },
  {
   "cell_type": "code",
   "execution_count": 382,
   "metadata": {},
   "outputs": [
    {
     "data": {
      "text/plain": [
       "salary_in_usd    133409.280186\n",
       "dtype: float64"
      ]
     },
     "execution_count": 382,
     "metadata": {},
     "output_type": "execute_result"
    }
   ],
   "source": [
    "# se observa cual es el salario promedio total\n",
    "df[['salary_in_usd']].mean()"
   ]
  },
  {
   "cell_type": "code",
   "execution_count": 383,
   "metadata": {},
   "outputs": [
    {
     "data": {
      "text/plain": [
       "employment_type\n",
       "FT                 2547\n",
       "PT                   17\n",
       "FL                   10\n",
       "CT                   10\n",
       "Name: count, dtype: int64"
      ]
     },
     "execution_count": 383,
     "metadata": {},
     "output_type": "execute_result"
    }
   ],
   "source": [
    "# Se observa cual es la cantidad de registros por cada tipo de empleado\n",
    "df[['employment_type']].value_counts()"
   ]
  },
  {
   "cell_type": "code",
   "execution_count": 384,
   "metadata": {},
   "outputs": [
    {
     "name": "stderr",
     "output_type": "stream",
     "text": [
      "C:\\Users\\sebac\\AppData\\Local\\Temp\\ipykernel_8568\\3351030638.py:6: MatplotlibDeprecationWarning: The 'labels' parameter of boxplot() has been renamed 'tick_labels' since Matplotlib 3.9; support for the old name will be dropped in 3.11.\n",
      "  plt.boxplot([salariosFT, salariosPT ,salariosFL, salariosCT], labels= ['FT','PT','FL','CT']);\n"
     ]
    },
    {
     "data": {
      "image/png": "[encoded data removed]",
      "text/plain": [
       "<Figure size 640x480 with 1 Axes>"
      ]
     },
     "metadata": {},
     "output_type": "display_data"
    }
   ],
   "source": [
    "# Se observa el salario promedio por cada tipo de empleado y se grafica para ver los outliers\n",
    "salariosFT = df.loc[df['employment_type']=='FT','salary_in_usd'].values\n",
    "salariosPT = df.loc[df['employment_type']=='PT','salary_in_usd'].values\n",
    "salariosFL = df.loc[df['employment_type']=='FL','salary_in_usd'].values\n",
    "salariosCT = df.loc[df['employment_type']=='CT','salary_in_usd'].values\n",
    "plt.boxplot([salariosFT, salariosPT ,salariosFL, salariosCT], labels= ['FT','PT','FL','CT']);\n",
    "\n",
    "# La fuente fue el apartado de pandas de la plataforma\n",
    "# https://codingdojolatam.la/cursos/data-science-fundamentals-mitic-b-septiembre-2024/leccion/pandas-para-ciencia-de-datos-filtrado-y-slicing-en-pandas-4-2/"
   ]
  },
  {
   "cell_type": "code",
   "execution_count": 385,
   "metadata": {},
   "outputs": [
    {
     "name": "stdout",
     "output_type": "stream",
     "text": [
      "Salario medio por tipo de empleado:                   salary_in_usd\n",
      "employment_type               \n",
      "CT               113446.900000\n",
      "FL                51807.800000\n",
      "FT               134434.613271\n",
      "PT                39533.705882\n",
      "Salario maximo por tipo de empleado:                   salary_in_usd\n",
      "employment_type               \n",
      "CT                      416000\n",
      "FL                      100000\n",
      "FT                      450000\n",
      "PT                      125404\n"
     ]
    }
   ],
   "source": [
    "# Se observa el salario medio y máximo por tipo de empleado\n",
    "salario_medio_por_tipo_empleado = df.groupby(['employment_type'])[['salary_in_usd']].mean()\n",
    "print(\"Salario medio por tipo de empleado: \", salario_medio_por_tipo_empleado)\n",
    "\n",
    "salario_maximo_por_tipo_empleado = df.groupby(['employment_type'])[['salary_in_usd']].max()\n",
    "print(\"Salario maximo por tipo de empleado: \", salario_maximo_por_tipo_empleado)"
   ]
  },
  {
   "cell_type": "code",
   "execution_count": 386,
   "metadata": {},
   "outputs": [
    {
     "data": {
      "image/png": "[encoded data removed]",
      "text/plain": [
       "<Figure size 640x480 with 1 Axes>"
      ]
     },
     "metadata": {},
     "output_type": "display_data"
    }
   ],
   "source": [
    "# Se grafica el boxplot por el salario medio total para identificar los outliers sobre el total\n",
    "salarios_outliers = df['salary_in_usd']\n",
    "plt.boxplot([salarios_outliers]);"
   ]
  },
  {
   "cell_type": "code",
   "execution_count": 387,
   "metadata": {},
   "outputs": [
    {
     "name": "stdout",
     "output_type": "stream",
     "text": [
      "<class 'pandas.core.frame.DataFrame'>\n",
      "Index: 35 entries, 33 to 3750\n",
      "Data columns (total 11 columns):\n",
      " #   Column              Non-Null Count  Dtype \n",
      "---  ------              --------------  ----- \n",
      " 0   work_year           35 non-null     int64 \n",
      " 1   experience_level    35 non-null     object\n",
      " 2   employment_type     35 non-null     object\n",
      " 3   job_title           35 non-null     object\n",
      " 4   salary              35 non-null     int64 \n",
      " 5   salary_currency     35 non-null     object\n",
      " 6   salary_in_usd       35 non-null     int64 \n",
      " 7   employee_residence  35 non-null     object\n",
      " 8   remote_ratio        35 non-null     int64 \n",
      " 9   company_location    35 non-null     object\n",
      " 10  company_size        35 non-null     object\n",
      "dtypes: int64(4), object(7)\n",
      "memory usage: 3.3+ KB\n"
     ]
    }
   ],
   "source": [
    "# Se observa la cantidad de registros que son outliers\n",
    "df[df['salary_in_usd'] > 300000].info()"
   ]
  },
  {
   "cell_type": "code",
   "execution_count": 388,
   "metadata": {},
   "outputs": [
    {
     "name": "stdout",
     "output_type": "stream",
     "text": [
      "<class 'pandas.core.frame.DataFrame'>\n",
      "Index: 2542 entries, 0 to 3754\n",
      "Data columns (total 11 columns):\n",
      " #   Column              Non-Null Count  Dtype \n",
      "---  ------              --------------  ----- \n",
      " 0   work_year           2542 non-null   int64 \n",
      " 1   experience_level    2542 non-null   object\n",
      " 2   employment_type     2542 non-null   object\n",
      " 3   job_title           2542 non-null   object\n",
      " 4   salary              2542 non-null   int64 \n",
      " 5   salary_currency     2542 non-null   object\n",
      " 6   salary_in_usd       2542 non-null   int64 \n",
      " 7   employee_residence  2542 non-null   object\n",
      " 8   remote_ratio        2542 non-null   int64 \n",
      " 9   company_location    2542 non-null   object\n",
      " 10  company_size        2542 non-null   object\n",
      "dtypes: int64(4), object(7)\n",
      "memory usage: 238.3+ KB\n"
     ]
    }
   ],
   "source": [
    "# Se filtran los outliers para limpiar la base\n",
    "df_filtrado = df[df['salary_in_usd'] < 300000]\n",
    "df_filtrado.info()\n"
   ]
  },
  {
   "cell_type": "code",
   "execution_count": 389,
   "metadata": {},
   "outputs": [
    {
     "data": {
      "image/png": "[encoded data removed]",
      "text/plain": [
       "<Figure size 640x480 with 1 Axes>"
      ]
     },
     "metadata": {},
     "output_type": "display_data"
    }
   ],
   "source": [
    "df_filtrado['salary_in_usd'] # values para transformación a arreglo numpy\n",
    "plt.boxplot([df_filtrado['salary_in_usd']]);"
   ]
  },
  {
   "cell_type": "markdown",
   "metadata": {},
   "source": [
    "Se identificaron 35 registros ya como outliers, que fueron excluidos y luego se visualiza el boxplot posterior a la limpieza"
   ]
  },
  {
   "cell_type": "markdown",
   "metadata": {},
   "source": [
    "## 2- Exploración de datos con Python:"
   ]
  },
  {
   "cell_type": "markdown",
   "metadata": {},
   "source": [
    "### 2.1 Visualización Univariada"
   ]
  },
  {
   "cell_type": "code",
   "execution_count": 394,
   "metadata": {},
   "outputs": [
    {
     "data": {
      "text/plain": [
       "Text(0.5, 1.0, 'Histograma de Salarios')"
      ]
     },
     "execution_count": 394,
     "metadata": {},
     "output_type": "execute_result"
    },
    {
     "data": {
      "image/png": "[encoded data removed]",
      "text/plain": [
       "<Figure size 640x480 with 1 Axes>"
      ]
     },
     "metadata": {},
     "output_type": "display_data"
    }
   ],
   "source": [
    "# Se realiza un historgrama sobre la base limpia para identificar los rangos salariales más frecuentes\n",
    "\n",
    "num_bins = 10\n",
    "fig1 = plt.figure(dpi=100)\n",
    "ax1 = fig1.add_subplot(1,1,1) \n",
    "\n",
    "ax1.hist(df_filtrado['salary_in_usd'], num_bins, density=False, rwidth=0.3)\n",
    "\n",
    "ax1.set_xlabel(\"Rango Salarial\")\n",
    "ax1.set_ylabel(\"Frecuencia\")\n",
    "ax1.set_title(\"Histograma de Salarios\")\n",
    "\n",
    "#El código se trajo del repositorio de https://github.com/polivares/CD-DataScience/tree/2024-2/3-Matplotlib "
   ]
  },
  {
   "cell_type": "code",
   "execution_count": 309,
   "metadata": {},
   "outputs": [
    {
     "data": {
      "text/plain": [
       "work_year\n",
       "2023         1156\n",
       "2022         1125\n",
       "2021          228\n",
       "2020           75\n",
       "Name: count, dtype: int64"
      ]
     },
     "execution_count": 309,
     "metadata": {},
     "output_type": "execute_result"
    }
   ],
   "source": [
    "# Se obtiene el dato de cantidad de trabajos de este tipo, por año\n",
    "df[['work_year']].value_counts()"
   ]
  },
  {
   "cell_type": "code",
   "execution_count": 397,
   "metadata": {},
   "outputs": [
    {
     "data": {
      "image/png": "[encoded data removed]",
      "text/plain": [
       "<Figure size 640x480 with 1 Axes>"
      ]
     },
     "metadata": {},
     "output_type": "display_data"
    }
   ],
   "source": [
    "# Acá se genera el gráfico utilizando plot, con los datos obtenidos en el fragmento de codigo anterior\n",
    "plt.plot([2020, 2021, 2022, 2023],[75,228,1125,1156]) # Se grafican 4 puntos\n",
    "\n",
    "plt.ylabel(\"Cantidad de puestos de trabajo\")\n",
    "plt.xlabel(\"Años\")\n",
    "plt.show()\n",
    "\n",
    "#El código se trajo del repositorio de https://github.com/polivares/CD-DataScience/tree/2024-2/3-Matplotlib "
   ]
  },
  {
   "cell_type": "markdown",
   "metadata": {},
   "source": [
    "### 2.2 Visualización Multivariada"
   ]
  },
  {
   "cell_type": "code",
   "execution_count": 325,
   "metadata": {},
   "outputs": [
    {
     "data": {
      "text/plain": [
       "experience_level\n",
       "SE                  1554\n",
       "MI                   664\n",
       "EN                   270\n",
       "EX                    96\n",
       "Name: count, dtype: int64"
      ]
     },
     "execution_count": 325,
     "metadata": {},
     "output_type": "execute_result"
    }
   ],
   "source": [
    "# Se cuentan los registros por nivel de experiencia\n",
    "df_experience = df[['experience_level']].value_counts()\n",
    "df_experience"
   ]
  },
  {
   "cell_type": "code",
   "execution_count": 398,
   "metadata": {},
   "outputs": [
    {
     "name": "stdout",
     "output_type": "stream",
     "text": [
      "                  salary_in_usd\n",
      "experience_level               \n",
      "EN                 72648.685185\n",
      "EX                191078.208333\n",
      "MI                101828.783133\n",
      "SE                153897.435650\n"
     ]
    }
   ],
   "source": [
    "# Se ve el salario promedio por el nivel de experiencia\n",
    "salario_medio_por_experiencia = df.groupby(['experience_level'])[['salary_in_usd']].mean()\n",
    "print(salario_medio_por_experiencia)"
   ]
  },
  {
   "cell_type": "code",
   "execution_count": 404,
   "metadata": {},
   "outputs": [
    {
     "data": {
      "image/png": "[encoded data removed]",
      "text/plain": [
       "<Figure size 640x480 with 1 Axes>"
      ]
     },
     "metadata": {},
     "output_type": "display_data"
    }
   ],
   "source": [
    "# Se realiza un grafico de dispersion con los datos anteriores para ver la relación entre el salario promedio y el nivel de experiencia\n",
    "plt.scatter(['ENTRY','MIDDLE','SENIOR','EXPERT'],[72648, 101828, 153897, 191078])\n",
    "plt.title(\"Gráfico de Dispersión\")\n",
    "plt.xlabel(\"Eje X\")\n",
    "plt.ylabel(\"Eje Y\")\n",
    "plt.show()\n",
    "\n",
    "#El código se trajo del repositorio de https://github.com/polivares/CD-DataScience/tree/2024-2/3-Matplotlib "
   ]
  },
  {
   "cell_type": "code",
   "execution_count": 346,
   "metadata": {},
   "outputs": [
    {
     "data": {
      "text/html": [
       "<div>\n",
       "<style scoped>\n",
       "    .dataframe tbody tr th:only-of-type {\n",
       "        vertical-align: middle;\n",
       "    }\n",
       "\n",
       "    .dataframe tbody tr th {\n",
       "        vertical-align: top;\n",
       "    }\n",
       "\n",
       "    .dataframe thead th {\n",
       "        text-align: right;\n",
       "    }\n",
       "</style>\n",
       "<table border=\"1\" class=\"dataframe\">\n",
       "  <thead>\n",
       "    <tr style=\"text-align: right;\">\n",
       "      <th></th>\n",
       "      <th>salary_in_usd</th>\n",
       "    </tr>\n",
       "    <tr>\n",
       "      <th>company_size</th>\n",
       "      <th></th>\n",
       "    </tr>\n",
       "  </thead>\n",
       "  <tbody>\n",
       "    <tr>\n",
       "      <th>L</th>\n",
       "      <td>102287.247191</td>\n",
       "    </tr>\n",
       "    <tr>\n",
       "      <th>M</th>\n",
       "      <td>144437.209026</td>\n",
       "    </tr>\n",
       "    <tr>\n",
       "      <th>S</th>\n",
       "      <td>58167.785714</td>\n",
       "    </tr>\n",
       "  </tbody>\n",
       "</table>\n",
       "</div>"
      ],
      "text/plain": [
       "              salary_in_usd\n",
       "company_size               \n",
       "L             102287.247191\n",
       "M             144437.209026\n",
       "S              58167.785714"
      ]
     },
     "execution_count": 346,
     "metadata": {},
     "output_type": "execute_result"
    }
   ],
   "source": [
    "# Se obtienen todos los registros donde el puesto sea el de Data Scientist\n",
    "df_data_scientist = df[df['job_title'] == 'Data Scientist']\n",
    "\n",
    "# Se agrupan los salarios medios por tamaño de compañia\n",
    "salario_medio_data_scientist = df_data_scientist.groupby(['company_size'])[['salary_in_usd']].mean()\n",
    "salario_medio_data_scientist"
   ]
  },
  {
   "cell_type": "code",
   "execution_count": 405,
   "metadata": {},
   "outputs": [
    {
     "data": {
      "image/png": "[encoded data removed]",
      "text/plain": [
       "<Figure size 640x480 with 1 Axes>"
      ]
     },
     "metadata": {},
     "output_type": "display_data"
    }
   ],
   "source": [
    "# Se crea un gráfico de barras para ver el salario medio de los data scientist segun el tamaño de las empresas\n",
    "fig, ax = plt.subplots()\n",
    "\n",
    "size_company = ['L', 'M', 'S']\n",
    "salary_mean_data_scientist = [102287, 144437, 58167]\n",
    "\n",
    "ax.bar(size_company, salary_mean_data_scientist)\n",
    "\n",
    "ax.set_ylabel('Salario Promedio de Data Scientist')\n",
    "ax.set_xlabel('Tamaño de las empresas')\n",
    "ax.set_title('Salario Promedio de Data Scientist segun el tamaño de la empresa')\n",
    "\n",
    "plt.show()"
   ]
  },
  {
   "cell_type": "markdown",
   "metadata": {},
   "source": [
    "## 3- Análisis adicional"
   ]
  },
  {
   "cell_type": "code",
   "execution_count": 407,
   "metadata": {},
   "outputs": [
    {
     "data": {
      "text/html": [
       "<div>\n",
       "<style scoped>\n",
       "    .dataframe tbody tr th:only-of-type {\n",
       "        vertical-align: middle;\n",
       "    }\n",
       "\n",
       "    .dataframe tbody tr th {\n",
       "        vertical-align: top;\n",
       "    }\n",
       "\n",
       "    .dataframe thead th {\n",
       "        text-align: right;\n",
       "    }\n",
       "</style>\n",
       "<table border=\"1\" class=\"dataframe\">\n",
       "  <thead>\n",
       "    <tr style=\"text-align: right;\">\n",
       "      <th></th>\n",
       "      <th>work_year</th>\n",
       "      <th>salary</th>\n",
       "      <th>salary_in_usd</th>\n",
       "      <th>remote_ratio</th>\n",
       "    </tr>\n",
       "  </thead>\n",
       "  <tbody>\n",
       "    <tr>\n",
       "      <th>count</th>\n",
       "      <td>2542.000000</td>\n",
       "      <td>2.542000e+03</td>\n",
       "      <td>2542.000000</td>\n",
       "      <td>2542.000000</td>\n",
       "    </tr>\n",
       "    <tr>\n",
       "      <th>mean</th>\n",
       "      <td>2022.300157</td>\n",
       "      <td>2.077353e+05</td>\n",
       "      <td>129899.244296</td>\n",
       "      <td>50.590087</td>\n",
       "    </tr>\n",
       "    <tr>\n",
       "      <th>std</th>\n",
       "      <td>0.747021</td>\n",
       "      <td>8.140949e+05</td>\n",
       "      <td>61584.621639</td>\n",
       "      <td>48.162272</td>\n",
       "    </tr>\n",
       "    <tr>\n",
       "      <th>min</th>\n",
       "      <td>2020.000000</td>\n",
       "      <td>6.000000e+03</td>\n",
       "      <td>5132.000000</td>\n",
       "      <td>0.000000</td>\n",
       "    </tr>\n",
       "    <tr>\n",
       "      <th>25%</th>\n",
       "      <td>2022.000000</td>\n",
       "      <td>9.000000e+04</td>\n",
       "      <td>84000.000000</td>\n",
       "      <td>0.000000</td>\n",
       "    </tr>\n",
       "    <tr>\n",
       "      <th>50%</th>\n",
       "      <td>2022.000000</td>\n",
       "      <td>1.322000e+05</td>\n",
       "      <td>128029.000000</td>\n",
       "      <td>50.000000</td>\n",
       "    </tr>\n",
       "    <tr>\n",
       "      <th>75%</th>\n",
       "      <td>2023.000000</td>\n",
       "      <td>1.800000e+05</td>\n",
       "      <td>172471.500000</td>\n",
       "      <td>100.000000</td>\n",
       "    </tr>\n",
       "    <tr>\n",
       "      <th>max</th>\n",
       "      <td>2023.000000</td>\n",
       "      <td>3.040000e+07</td>\n",
       "      <td>299500.000000</td>\n",
       "      <td>100.000000</td>\n",
       "    </tr>\n",
       "  </tbody>\n",
       "</table>\n",
       "</div>"
      ],
      "text/plain": [
       "         work_year        salary  salary_in_usd  remote_ratio\n",
       "count  2542.000000  2.542000e+03    2542.000000   2542.000000\n",
       "mean   2022.300157  2.077353e+05  129899.244296     50.590087\n",
       "std       0.747021  8.140949e+05   61584.621639     48.162272\n",
       "min    2020.000000  6.000000e+03    5132.000000      0.000000\n",
       "25%    2022.000000  9.000000e+04   84000.000000      0.000000\n",
       "50%    2022.000000  1.322000e+05  128029.000000     50.000000\n",
       "75%    2023.000000  1.800000e+05  172471.500000    100.000000\n",
       "max    2023.000000  3.040000e+07  299500.000000    100.000000"
      ]
     },
     "execution_count": 407,
     "metadata": {},
     "output_type": "execute_result"
    }
   ],
   "source": [
    "# Se des\n",
    "df_filtrado.describe()"
   ]
  },
  {
   "cell_type": "code",
   "execution_count": 411,
   "metadata": {},
   "outputs": [
    {
     "data": {
      "text/html": [
       "<div>\n",
       "<style scoped>\n",
       "    .dataframe tbody tr th:only-of-type {\n",
       "        vertical-align: middle;\n",
       "    }\n",
       "\n",
       "    .dataframe tbody tr th {\n",
       "        vertical-align: top;\n",
       "    }\n",
       "\n",
       "    .dataframe thead th {\n",
       "        text-align: right;\n",
       "    }\n",
       "</style>\n",
       "<table border=\"1\" class=\"dataframe\">\n",
       "  <thead>\n",
       "    <tr style=\"text-align: right;\">\n",
       "      <th></th>\n",
       "      <th>work_year</th>\n",
       "      <th>salary</th>\n",
       "      <th>salary_in_usd</th>\n",
       "      <th>remote_ratio</th>\n",
       "    </tr>\n",
       "  </thead>\n",
       "  <tbody>\n",
       "    <tr>\n",
       "      <th>0</th>\n",
       "      <td>2023</td>\n",
       "      <td>80000</td>\n",
       "      <td>85847</td>\n",
       "      <td>100</td>\n",
       "    </tr>\n",
       "    <tr>\n",
       "      <th>1</th>\n",
       "      <td>2023</td>\n",
       "      <td>30000</td>\n",
       "      <td>30000</td>\n",
       "      <td>100</td>\n",
       "    </tr>\n",
       "    <tr>\n",
       "      <th>2</th>\n",
       "      <td>2023</td>\n",
       "      <td>25500</td>\n",
       "      <td>25500</td>\n",
       "      <td>100</td>\n",
       "    </tr>\n",
       "    <tr>\n",
       "      <th>3</th>\n",
       "      <td>2023</td>\n",
       "      <td>175000</td>\n",
       "      <td>175000</td>\n",
       "      <td>100</td>\n",
       "    </tr>\n",
       "    <tr>\n",
       "      <th>4</th>\n",
       "      <td>2023</td>\n",
       "      <td>120000</td>\n",
       "      <td>120000</td>\n",
       "      <td>100</td>\n",
       "    </tr>\n",
       "    <tr>\n",
       "      <th>...</th>\n",
       "      <td>...</td>\n",
       "      <td>...</td>\n",
       "      <td>...</td>\n",
       "      <td>...</td>\n",
       "    </tr>\n",
       "    <tr>\n",
       "      <th>3749</th>\n",
       "      <td>2021</td>\n",
       "      <td>165000</td>\n",
       "      <td>165000</td>\n",
       "      <td>100</td>\n",
       "    </tr>\n",
       "    <tr>\n",
       "      <th>3751</th>\n",
       "      <td>2021</td>\n",
       "      <td>151000</td>\n",
       "      <td>151000</td>\n",
       "      <td>100</td>\n",
       "    </tr>\n",
       "    <tr>\n",
       "      <th>3752</th>\n",
       "      <td>2020</td>\n",
       "      <td>105000</td>\n",
       "      <td>105000</td>\n",
       "      <td>100</td>\n",
       "    </tr>\n",
       "    <tr>\n",
       "      <th>3753</th>\n",
       "      <td>2020</td>\n",
       "      <td>100000</td>\n",
       "      <td>100000</td>\n",
       "      <td>100</td>\n",
       "    </tr>\n",
       "    <tr>\n",
       "      <th>3754</th>\n",
       "      <td>2021</td>\n",
       "      <td>7000000</td>\n",
       "      <td>94665</td>\n",
       "      <td>50</td>\n",
       "    </tr>\n",
       "  </tbody>\n",
       "</table>\n",
       "<p>2542 rows × 4 columns</p>\n",
       "</div>"
      ],
      "text/plain": [
       "      work_year   salary  salary_in_usd  remote_ratio\n",
       "0          2023    80000          85847           100\n",
       "1          2023    30000          30000           100\n",
       "2          2023    25500          25500           100\n",
       "3          2023   175000         175000           100\n",
       "4          2023   120000         120000           100\n",
       "...         ...      ...            ...           ...\n",
       "3749       2021   165000         165000           100\n",
       "3751       2021   151000         151000           100\n",
       "3752       2020   105000         105000           100\n",
       "3753       2020   100000         100000           100\n",
       "3754       2021  7000000          94665            50\n",
       "\n",
       "[2542 rows x 4 columns]"
      ]
     },
     "execution_count": 411,
     "metadata": {},
     "output_type": "execute_result"
    }
   ],
   "source": [
    "# Se filtran solo por las columnas con tipo de dato numérico\n",
    "df_numbers = df_filtrado.select_dtypes(int)\n",
    "df_numbers"
   ]
  },
  {
   "cell_type": "code",
   "execution_count": 413,
   "metadata": {},
   "outputs": [
    {
     "data": {
      "text/html": [
       "<div>\n",
       "<style scoped>\n",
       "    .dataframe tbody tr th:only-of-type {\n",
       "        vertical-align: middle;\n",
       "    }\n",
       "\n",
       "    .dataframe tbody tr th {\n",
       "        vertical-align: top;\n",
       "    }\n",
       "\n",
       "    .dataframe thead th {\n",
       "        text-align: right;\n",
       "    }\n",
       "</style>\n",
       "<table border=\"1\" class=\"dataframe\">\n",
       "  <thead>\n",
       "    <tr style=\"text-align: right;\">\n",
       "      <th></th>\n",
       "      <th>work_year</th>\n",
       "      <th>salary</th>\n",
       "      <th>salary_in_usd</th>\n",
       "      <th>remote_ratio</th>\n",
       "    </tr>\n",
       "  </thead>\n",
       "  <tbody>\n",
       "    <tr>\n",
       "      <th>count</th>\n",
       "      <td>2542.000000</td>\n",
       "      <td>2.542000e+03</td>\n",
       "      <td>2542.000000</td>\n",
       "      <td>2542.000000</td>\n",
       "    </tr>\n",
       "    <tr>\n",
       "      <th>mean</th>\n",
       "      <td>2022.300157</td>\n",
       "      <td>2.077353e+05</td>\n",
       "      <td>129899.244296</td>\n",
       "      <td>50.590087</td>\n",
       "    </tr>\n",
       "    <tr>\n",
       "      <th>std</th>\n",
       "      <td>0.747021</td>\n",
       "      <td>8.140949e+05</td>\n",
       "      <td>61584.621639</td>\n",
       "      <td>48.162272</td>\n",
       "    </tr>\n",
       "    <tr>\n",
       "      <th>min</th>\n",
       "      <td>2020.000000</td>\n",
       "      <td>6.000000e+03</td>\n",
       "      <td>5132.000000</td>\n",
       "      <td>0.000000</td>\n",
       "    </tr>\n",
       "    <tr>\n",
       "      <th>25%</th>\n",
       "      <td>2022.000000</td>\n",
       "      <td>9.000000e+04</td>\n",
       "      <td>84000.000000</td>\n",
       "      <td>0.000000</td>\n",
       "    </tr>\n",
       "    <tr>\n",
       "      <th>50%</th>\n",
       "      <td>2022.000000</td>\n",
       "      <td>1.322000e+05</td>\n",
       "      <td>128029.000000</td>\n",
       "      <td>50.000000</td>\n",
       "    </tr>\n",
       "    <tr>\n",
       "      <th>75%</th>\n",
       "      <td>2023.000000</td>\n",
       "      <td>1.800000e+05</td>\n",
       "      <td>172471.500000</td>\n",
       "      <td>100.000000</td>\n",
       "    </tr>\n",
       "    <tr>\n",
       "      <th>max</th>\n",
       "      <td>2023.000000</td>\n",
       "      <td>3.040000e+07</td>\n",
       "      <td>299500.000000</td>\n",
       "      <td>100.000000</td>\n",
       "    </tr>\n",
       "  </tbody>\n",
       "</table>\n",
       "</div>"
      ],
      "text/plain": [
       "         work_year        salary  salary_in_usd  remote_ratio\n",
       "count  2542.000000  2.542000e+03    2542.000000   2542.000000\n",
       "mean   2022.300157  2.077353e+05  129899.244296     50.590087\n",
       "std       0.747021  8.140949e+05   61584.621639     48.162272\n",
       "min    2020.000000  6.000000e+03    5132.000000      0.000000\n",
       "25%    2022.000000  9.000000e+04   84000.000000      0.000000\n",
       "50%    2022.000000  1.322000e+05  128029.000000     50.000000\n",
       "75%    2023.000000  1.800000e+05  172471.500000    100.000000\n",
       "max    2023.000000  3.040000e+07  299500.000000    100.000000"
      ]
     },
     "execution_count": 413,
     "metadata": {},
     "output_type": "execute_result"
    }
   ],
   "source": [
    "# Se exploran los datos del df numerico\n",
    "df_numbers.describe()"
   ]
  },
  {
   "cell_type": "code",
   "execution_count": 418,
   "metadata": {},
   "outputs": [
    {
     "name": "stdout",
     "output_type": "stream",
     "text": [
      "               work_year    salary  salary_in_usd  remote_ratio\n",
      "work_year       1.000000 -0.100584       0.265087     -0.215490\n",
      "salary         -0.100584  1.000000      -0.060590      0.027591\n",
      "salary_in_usd   0.265087 -0.060590       1.000000     -0.086049\n",
      "remote_ratio   -0.215490  0.027591      -0.086049      1.000000\n",
      "               work_year    salary  salary_in_usd  remote_ratio\n",
      "work_year       1.000000  0.151517       0.241425     -0.229652\n",
      "salary          0.151517  1.000000       0.834795     -0.037600\n",
      "salary_in_usd   0.241425  0.834795       1.000000     -0.079713\n",
      "remote_ratio   -0.229652 -0.037600      -0.079713      1.000000\n"
     ]
    }
   ],
   "source": [
    "# Se analizan las correlaciones,\n",
    "# Cálculo de la correlación Pearson\n",
    "correlation_matrix = df_numbers.corr(method='pearson')\n",
    "print(correlation_matrix)\n",
    "\n",
    "# Cálculo de la correlación de Spearman\n",
    "spearman_corr = df_numbers.corr(method='spearman')\n",
    "print(spearman_corr)\n",
    "\n",
    "# Código obtenido de: https://codingdojolatam.la/cursos/data-science-fundamentals-mitic-b-septiembre-2024/leccion/visualizacion-para-ciencia-de-datos-heatmap-y-correlacion-4-2/"
   ]
  },
  {
   "cell_type": "markdown",
   "metadata": {},
   "source": [
    "No se observan correlaciones fuentes entre las variables analizadas, salvo el de salario y salario en usd, pero que solo se debe a la unificación de la moneda."
   ]
  },
  {
   "cell_type": "markdown",
   "metadata": {},
   "source": [
    "Pensaba que podría haber una correlación entre el salario y el trabajo remoto, pero los datos indican que el tipo de trabajo, ya sea remoto, hibrido o presencial, no influye en el salario."
   ]
  },
  {
   "cell_type": "markdown",
   "metadata": {},
   "source": [
    "# CONCLUSION"
   ]
  },
  {
   "cell_type": "markdown",
   "metadata": {},
   "source": [
    "- Los principales rangos salariales en Ciencia de datos, rondan entre los 110K y 140K anuales.\n",
    "- A medida que sube el nivel de experiencia, sube considerablemente el salario promedio.\n",
    "- El salario promedio de los puestos exclusivamente nombrados como Data Scientist, varía bastante según el tipo de empresa, pudiendo ser 60K para empresas \"S\", y más del doble para empresas \"M\", que rondan los 145K anuales.\n",
    "- Desde el 2020 hubo un gran incremento de estos tipos de trabajo, creciendo año a año, y principalmente de 2021 a 2022, y reduciendose en 2023 pero aún con una tendencia alcista."
   ]
  }
 ],
 "metadata": {
  "kernelspec": {
   "display_name": "Python 3",
   "language": "python",
   "name": "python3"
  },
  "language_info": {
   "codemirror_mode": {
    "name": "ipython",
    "version": 3
   },
   "file_extension": ".py",
   "mimetype": "text/x-python",
   "name": "python",
   "nbconvert_exporter": "python",
   "pygments_lexer": "ipython3",
   "version": "3.12.7"
  }
 },
 "nbformat": 4,
 "nbformat_minor": 2
}
