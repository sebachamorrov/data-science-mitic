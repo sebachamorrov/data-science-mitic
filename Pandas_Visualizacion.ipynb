{
 "cells": [
  {
   "cell_type": "markdown",
   "metadata": {},
   "source": [
    "# Pandas y visualizacion"
   ]
  },
  {
   "cell_type": "code",
   "execution_count": 6,
   "metadata": {},
   "outputs": [
    {
     "name": "stdout",
     "output_type": "stream",
     "text": [
      "DataFrame convertido a diccionario:\n",
      "{'Producto': {0: 'Manzanas', 1: 'Naranjas', 2: 'Bananas'}, 'Ventas': {0: 50, 1: 30, 2: 20}, 'Precio': {0: 0.5, 1: 0.75, 2: 0.3}}\n"
     ]
    }
   ],
   "source": [
    "import pandas as pd\n",
    "# Crear un DataFrame de ejemplo\n",
    "data = {\n",
    "    'Producto': ['Manzanas', 'Naranjas', 'Bananas'],\n",
    "    'Ventas': [50, 30, 20],\n",
    "    'Precio': [0.5, 0.75, 0.3]\n",
    "}\n",
    "df = pd.DataFrame(data)\n",
    "\n",
    "# Convertir a un diccionario\n",
    "dict_data = df.to_dict()\n",
    "print(\"DataFrame convertido a diccionario:\")\n",
    "print(dict_data)"
   ]
  },
  {
   "cell_type": "code",
   "execution_count": 7,
   "metadata": {},
   "outputs": [
    {
     "name": "stdout",
     "output_type": "stream",
     "text": [
      "DataFrame convertido a array de NumPy:\n",
      "[['Manzanas' 50 0.5]\n",
      " ['Naranjas' 30 0.75]\n",
      " ['Bananas' 20 0.3]]\n"
     ]
    }
   ],
   "source": [
    "import numpy as np\n",
    "\n",
    "# Convertir a un array de NumPy\n",
    "array_data = df.to_numpy()\n",
    "print(\"DataFrame convertido a array de NumPy:\")\n",
    "print(array_data)"
   ]
  },
  {
   "cell_type": "code",
   "execution_count": 19,
   "metadata": {},
   "outputs": [
    {
     "name": "stdout",
     "output_type": "stream",
     "text": [
      "DataFrame guardado como archivo CSV\n"
     ]
    }
   ],
   "source": [
    "# Guardar el DataFrame en un archivo CSV\n",
    "df.to_csv('ventas.csv', index=False, encoding='utf-8')\n",
    "print(\"DataFrame guardado como archivo CSV\")\n",
    "\n",
    "df_csv_utf8 = pd.read_csv('ventas.csv', encoding='utf-8')"
   ]
  },
  {
   "cell_type": "code",
   "execution_count": 10,
   "metadata": {},
   "outputs": [
    {
     "name": "stdout",
     "output_type": "stream",
     "text": [
      "DataFrame convertido a JSON:\n",
      "{\"Producto\":{\"0\":\"Manzanas\",\"1\":\"Naranjas\",\"2\":\"Bananas\"},\"Ventas\":{\"0\":50,\"1\":30,\"2\":20},\"Precio\":{\"0\":0.5,\"1\":0.75,\"2\":0.3}}\n",
      "DataFrame guardado como archivo JSON\n"
     ]
    }
   ],
   "source": [
    "# Convertir a JSON\n",
    "json_data = df.to_json()\n",
    "print(\"DataFrame convertido a JSON:\")\n",
    "print(json_data)\n",
    "\n",
    "# Guardar el DataFrame en un archivo JSON\n",
    "df.to_json('ventas.json', orient='records', lines=True)\n",
    "print(\"DataFrame guardado como archivo JSON\")"
   ]
  },
  {
   "cell_type": "code",
   "execution_count": 13,
   "metadata": {},
   "outputs": [
    {
     "name": "stdout",
     "output_type": "stream",
     "text": [
      "{\"Producto\":{\"0\":\"Manzanas\",\"1\":\"Naranjas\",\"2\":\"Bananas\"},\"Ventas\":{\"0\":50,\"1\":30,\"2\":20},\"Precio\":{\"0\":0.5,\"1\":0.75,\"2\":0.3}}\n",
      "DataFrame guardado como archivo JSON\n"
     ]
    }
   ],
   "source": [
    "# Convertir a JSON\n",
    "json_data = df.to_json()\n",
    "print(json_data)\n",
    "\n",
    "# Guardar el DataFrame en un archivo JSON\n",
    "df.to_json('ventas.json', orient='records', lines=True)\n",
    "print(\"DataFrame guardado como archivo JSON\")"
   ]
  },
  {
   "cell_type": "code",
   "execution_count": 16,
   "metadata": {},
   "outputs": [
    {
     "name": "stdout",
     "output_type": "stream",
     "text": [
      "dato guardado en excel\n"
     ]
    }
   ],
   "source": [
    "# Guardar el DataFrame en un archivo Excel\n",
    "df.to_excel('ventas.xlsx', index=False)\n",
    "print(\"dato guardado en excel\")"
   ]
  },
  {
   "cell_type": "code",
   "execution_count": 21,
   "metadata": {},
   "outputs": [],
   "source": [
    "# Guardar un archivo CSV comprimido\n",
    "df.to_csv('ventas_comprimido.csv.gz', index=False, compression='gzip')\n",
    "\n",
    "# Leer un archivo CSV comprimido\n",
    "df_from_compressed_csv = pd.read_csv('ventas_comprimido.csv.gz', compression='gzip')"
   ]
  },
  {
   "cell_type": "markdown",
   "metadata": {},
   "source": [
    "# Group by"
   ]
  },
  {
   "cell_type": "code",
   "execution_count": 53,
   "metadata": {},
   "outputs": [
    {
     "data": {
      "text/html": [
       "<div>\n",
       "<style scoped>\n",
       "    .dataframe tbody tr th:only-of-type {\n",
       "        vertical-align: middle;\n",
       "    }\n",
       "\n",
       "    .dataframe tbody tr th {\n",
       "        vertical-align: top;\n",
       "    }\n",
       "\n",
       "    .dataframe thead th {\n",
       "        text-align: right;\n",
       "    }\n",
       "</style>\n",
       "<table border=\"1\" class=\"dataframe\">\n",
       "  <thead>\n",
       "    <tr style=\"text-align: right;\">\n",
       "      <th></th>\n",
       "      <th>Ventas</th>\n",
       "    </tr>\n",
       "    <tr>\n",
       "      <th>Producto</th>\n",
       "      <th></th>\n",
       "    </tr>\n",
       "  </thead>\n",
       "  <tbody>\n",
       "    <tr>\n",
       "      <th>Bananas</th>\n",
       "      <td>50</td>\n",
       "    </tr>\n",
       "    <tr>\n",
       "      <th>Manzanas</th>\n",
       "      <td>110</td>\n",
       "    </tr>\n",
       "    <tr>\n",
       "      <th>Naranjas</th>\n",
       "      <td>70</td>\n",
       "    </tr>\n",
       "  </tbody>\n",
       "</table>\n",
       "</div>"
      ],
      "text/plain": [
       "          Ventas\n",
       "Producto        \n",
       "Bananas       50\n",
       "Manzanas     110\n",
       "Naranjas      70"
      ]
     },
     "execution_count": 53,
     "metadata": {},
     "output_type": "execute_result"
    }
   ],
   "source": [
    "import pandas as pd\n",
    "\n",
    "# Crear un DataFrame de ejemplo\n",
    "data = {\n",
    "    'Producto': ['Manzanas', 'Naranjas', 'Bananas', 'Manzanas', 'Naranjas', 'Bananas'],\n",
    "    'Ventas': [50, 30, 20, 60, 40, 30],\n",
    "    'Tienda': ['A', 'A', 'A', 'B', 'B', 'B']\n",
    "}\n",
    "df = pd.DataFrame(data)\n",
    "\n",
    "# Agrupar por columna 'Producto'\n",
    "grouped = df.groupby('Producto')\n",
    "\n",
    "df.groupby(['Tienda']).sum('Ventas')\n",
    "df.groupby(['Producto']).sum('Ventas')\n"
   ]
  },
  {
   "cell_type": "code",
   "execution_count": 54,
   "metadata": {},
   "outputs": [
    {
     "name": "stdout",
     "output_type": "stream",
     "text": [
      "Producto\n",
      "Bananas      50\n",
      "Manzanas    110\n",
      "Naranjas     70\n",
      "Name: Ventas, dtype: int64\n",
      "Producto\n",
      "Bananas     25.0\n",
      "Manzanas    55.0\n",
      "Naranjas    35.0\n",
      "Name: Ventas, dtype: float64\n",
      "Producto\n",
      "Bananas     2\n",
      "Manzanas    2\n",
      "Naranjas    2\n",
      "Name: Ventas, dtype: int64\n"
     ]
    }
   ],
   "source": [
    "# Suma de ventas por producto\n",
    "ventas_por_producto = grouped['Ventas'].sum()\n",
    "print(ventas_por_producto)\n",
    "\n",
    "# Promedio de ventas por producto\n",
    "promedio_ventas_por_producto = grouped['Ventas'].mean()\n",
    "print(promedio_ventas_por_producto)\n",
    "\n",
    "# Número de ventas por producto\n",
    "conteo_ventas_por_producto = grouped['Ventas'].count()\n",
    "print(conteo_ventas_por_producto)"
   ]
  },
  {
   "cell_type": "code",
   "execution_count": 57,
   "metadata": {},
   "outputs": [
    {
     "name": "stdout",
     "output_type": "stream",
     "text": [
      "   Producto  Ventas Tienda  Porcentaje\n",
      "0  Manzanas      50      A   45.454545\n",
      "1  Naranjas      30      A   42.857143\n",
      "2   Bananas      20      A   40.000000\n",
      "3  Manzanas      60      B   54.545455\n",
      "4  Naranjas      40      B   57.142857\n",
      "5   Bananas      30      B   60.000000\n"
     ]
    }
   ],
   "source": [
    "# Calcular el porcentaje de ventas de cada producto en su tienda\n",
    "df['Porcentaje'] = grouped['Ventas'].transform(lambda x: x / x.sum() * 100)\n",
    "print(df)\n"
   ]
  },
  {
   "cell_type": "code",
   "execution_count": 62,
   "metadata": {},
   "outputs": [
    {
     "name": "stdout",
     "output_type": "stream",
     "text": [
      "   Producto  Ventas Tienda  Porcentaje\n",
      "0  Manzanas      50      A   45.454545\n",
      "1  Naranjas      30      A   42.857143\n",
      "3  Manzanas      60      B   54.545455\n",
      "4  Naranjas      40      B   57.142857\n"
     ]
    }
   ],
   "source": [
    "# Filtrar productos con ventas totales mayores a 50\n",
    "filtro = grouped.filter(lambda x: x['Ventas'].sum() > 50)\n",
    "print(filtro)"
   ]
  },
  {
   "cell_type": "code",
   "execution_count": 65,
   "metadata": {},
   "outputs": [
    {
     "name": "stdout",
     "output_type": "stream",
     "text": [
      "Tienda\n",
      "A    100\n",
      "B    130\n",
      "Name: Ventas, dtype: int64\n"
     ]
    }
   ],
   "source": [
    "# Suma de ventas por tienda\n",
    "ventas_por_tienda = df.groupby('Tienda')['Ventas'].sum()\n",
    "print(ventas_por_tienda)"
   ]
  },
  {
   "cell_type": "code",
   "execution_count": 67,
   "metadata": {},
   "outputs": [
    {
     "name": "stdout",
     "output_type": "stream",
     "text": [
      "Tienda\n",
      "A    33.333333\n",
      "B    43.333333\n",
      "Name: Ventas, dtype: float64\n"
     ]
    }
   ],
   "source": [
    "# Promedio de ventas por tienda\n",
    "promedio_ventas_por_tienda = df.groupby('Tienda')['Ventas'].mean()\n",
    "print(promedio_ventas_por_tienda)"
   ]
  },
  {
   "cell_type": "code",
   "execution_count": 69,
   "metadata": {},
   "outputs": [
    {
     "name": "stdout",
     "output_type": "stream",
     "text": [
      "Tienda\n",
      "A    3\n",
      "B    3\n",
      "Name: Ventas, dtype: int64\n"
     ]
    }
   ],
   "source": [
    "# Número de ventas por tienda\n",
    "conteo_ventas_por_tienda = df.groupby('Tienda')['Ventas'].count()\n",
    "print(conteo_ventas_por_tienda)"
   ]
  },
  {
   "cell_type": "code",
   "execution_count": 70,
   "metadata": {},
   "outputs": [
    {
     "name": "stdout",
     "output_type": "stream",
     "text": [
      "Tienda\n",
      "A    20\n",
      "B    30\n",
      "Name: Ventas, dtype: int64\n",
      "Tienda\n",
      "A    50\n",
      "B    60\n",
      "Name: Ventas, dtype: int64\n"
     ]
    }
   ],
   "source": [
    "# Ventas mínimas y máximas por tienda\n",
    "ventas_minimas_por_tienda = df.groupby('Tienda')['Ventas'].min()\n",
    "ventas_maximas_por_tienda = df.groupby('Tienda')['Ventas'].max()\n",
    "print(ventas_minimas_por_tienda)\n",
    "print(ventas_maximas_por_tienda)"
   ]
  },
  {
   "cell_type": "code",
   "execution_count": 71,
   "metadata": {},
   "outputs": [
    {
     "name": "stdout",
     "output_type": "stream",
     "text": [
      "Tienda\n",
      "A    15.275252\n",
      "B    15.275252\n",
      "Name: Ventas, dtype: float64\n",
      "Tienda\n",
      "A    233.333333\n",
      "B    233.333333\n",
      "Name: Ventas, dtype: float64\n"
     ]
    }
   ],
   "source": [
    "# Desviación estándar de las ventas por tienda\n",
    "desviacion_estandar_ventas = df.groupby('Tienda')['Ventas'].std()\n",
    "print(desviacion_estandar_ventas)\n",
    "\n",
    "# Varianza de las ventas por tienda\n",
    "varianza_ventas = df.groupby('Tienda')['Ventas'].var()\n",
    "print(varianza_ventas)\n"
   ]
  },
  {
   "cell_type": "code",
   "execution_count": 75,
   "metadata": {},
   "outputs": [
    {
     "data": {
      "text/plain": [
       "Tienda  Producto\n",
       "A       Bananas     20\n",
       "        Manzanas    50\n",
       "        Naranjas    30\n",
       "B       Bananas     30\n",
       "        Manzanas    60\n",
       "        Naranjas    40\n",
       "Name: Ventas, dtype: int64"
      ]
     },
     "execution_count": 75,
     "metadata": {},
     "output_type": "execute_result"
    }
   ],
   "source": [
    "grouped_multi = df.groupby(['Tienda','Producto'])['Ventas'].sum()\n",
    "grouped_multi"
   ]
  },
  {
   "cell_type": "code",
   "execution_count": 82,
   "metadata": {},
   "outputs": [
    {
     "name": "stdout",
     "output_type": "stream",
     "text": [
      "Producto  Tienda\n",
      "Bananas   A         20\n",
      "          B         30\n",
      "Manzanas  A         50\n",
      "          B         60\n",
      "Naranjas  A         30\n",
      "          B         40\n",
      "Name: Ventas, dtype: int64\n",
      "Producto  Tienda\n",
      "Bananas   A         20.0\n",
      "          B         30.0\n",
      "Manzanas  A         50.0\n",
      "          B         60.0\n",
      "Naranjas  A         30.0\n",
      "          B         40.0\n",
      "Name: Ventas, dtype: float64\n"
     ]
    }
   ],
   "source": [
    "# Agrupar por 'Producto' y 'Tienda'\n",
    "grouped_multi = df.groupby(['Producto', 'Tienda'])\n",
    "\n",
    "# Suma de ventas por producto y tienda\n",
    "ventas_por_producto_y_tienda = grouped_multi['Ventas'].sum()\n",
    "print(ventas_por_producto_y_tienda)\n",
    "\n",
    "# Promedio de ventas por producto y tienda\n",
    "promedio_ventas_por_producto_y_tienda = grouped_multi['Ventas'].mean()\n",
    "print(promedio_ventas_por_producto_y_tienda)"
   ]
  },
  {
   "cell_type": "code",
   "execution_count": 83,
   "metadata": {},
   "outputs": [
    {
     "name": "stdout",
     "output_type": "stream",
     "text": [
      "          sum  mean  count\n",
      "Producto                  \n",
      "Bananas    50  25.0      2\n",
      "Manzanas  110  55.0      2\n",
      "Naranjas   70  35.0      2\n"
     ]
    }
   ],
   "source": [
    "# Aplicar múltiples funciones de agregación a 'Ventas' agrupadas por 'Producto'\n",
    "agg_result = df.groupby('Producto')['Ventas'].agg(['sum', 'mean', 'count'])\n",
    "print(agg_result)"
   ]
  },
  {
   "cell_type": "code",
   "execution_count": 84,
   "metadata": {},
   "outputs": [
    {
     "name": "stdout",
     "output_type": "stream",
     "text": [
      "Producto\n",
      "Bananas     10\n",
      "Manzanas    10\n",
      "Naranjas    10\n",
      "Name: Ventas, dtype: int64\n"
     ]
    }
   ],
   "source": [
    "# Calcular el rango (max - min) de ventas por producto\n",
    "rango_ventas_por_producto = df.groupby('Producto')['Ventas'].apply(lambda x: x.max() - x.min())\n",
    "print(rango_ventas_por_producto)"
   ]
  },
  {
   "cell_type": "code",
   "execution_count": 86,
   "metadata": {},
   "outputs": [
    {
     "name": "stdout",
     "output_type": "stream",
     "text": [
      "                  sum   mean\n",
      "Producto Mes                \n",
      "Bananas  Enero     50   50.0\n",
      "         Febrero   70   70.0\n",
      "Manzanas Enero    100  100.0\n",
      "         Febrero  120  120.0\n",
      "Naranjas Enero     80   80.0\n",
      "         Febrero   90   90.0\n"
     ]
    }
   ],
   "source": [
    "# Crear un DataFrame de ejemplo\n",
    "data = {\n",
    "    'Producto': ['Manzanas', 'Naranjas', 'Bananas', 'Manzanas', 'Naranjas', 'Bananas'],\n",
    "    'Mes': ['Enero', 'Enero', 'Enero', 'Febrero', 'Febrero', 'Febrero'],\n",
    "    'Ventas': [100, 80, 50, 120, 90, 70]\n",
    "}\n",
    "df = pd.DataFrame(data)\n",
    "\n",
    "# Agrupar por 'Producto' y 'Mes'\n",
    "grouped = df.groupby(['Producto', 'Mes'])\n",
    "\n",
    "# Suma y promedio de ventas por producto y mes\n",
    "ventas_por_producto_y_mes = grouped['Ventas'].agg(['sum', 'mean'])\n",
    "print(ventas_por_producto_y_mes)"
   ]
  },
  {
   "cell_type": "code",
   "execution_count": 87,
   "metadata": {},
   "outputs": [
    {
     "name": "stdout",
     "output_type": "stream",
     "text": [
      "Cantidad de compras por cliente:\n",
      "Cliente\n",
      "A    3\n",
      "B    2\n",
      "C    2\n",
      "Name: Compra, dtype: int64\n",
      "nMonto total gastado por cliente:\n",
      "Cliente\n",
      "A    490\n",
      "B    320\n",
      "C    330\n",
      "Name: Monto, dtype: int64\n"
     ]
    }
   ],
   "source": [
    "import pandas as pd\n",
    "\n",
    "# Crear un DataFrame de ejemplo\n",
    "data = {\n",
    "    'Cliente': ['A', 'B', 'C', 'A', 'B', 'C', 'A'],\n",
    "    'Monto': [100, 200, 150, 300, 120, 180, 90],\n",
    "    'Compra': [1, 1, 1, 2, 2, 2, 3]\n",
    "}\n",
    "df = pd.DataFrame(data)\n",
    "\n",
    "# Agrupar por 'Cliente'\n",
    "grouped = df.groupby('Cliente')\n",
    "\n",
    "# Analizar la cantidad de compras y el monto total gastado por cada cliente\n",
    "cantidad_compras = grouped['Compra'].count()\n",
    "monto_total = grouped['Monto'].sum()\n",
    "\n",
    "print(\"Cantidad de compras por cliente:\")\n",
    "print(cantidad_compras)\n",
    "\n",
    "print(\"nMonto total gastado por cliente:\")\n",
    "print(monto_total)"
   ]
  },
  {
   "cell_type": "markdown",
   "metadata": {},
   "source": [
    "# APPLY"
   ]
  },
  {
   "cell_type": "code",
   "execution_count": 88,
   "metadata": {},
   "outputs": [
    {
     "name": "stdout",
     "output_type": "stream",
     "text": [
      "   A   B  A_squared\n",
      "0  1  10          1\n",
      "1  2  20          4\n",
      "2  3  30          9\n",
      "3  4  40         16\n"
     ]
    }
   ],
   "source": [
    "import pandas as pd\n",
    "\n",
    "# Crear un DataFrame de ejemplo\n",
    "data = {\n",
    "    'A': [1, 2, 3, 4],\n",
    "    'B': [10, 20, 30, 40]\n",
    "}\n",
    "df = pd.DataFrame(data)\n",
    "\n",
    "# Aplicar una función a la columna 'A'\n",
    "df['A_squared'] = df['A'].apply(lambda x: x ** 2)\n",
    "print(df)"
   ]
  },
  {
   "cell_type": "code",
   "execution_count": 91,
   "metadata": {},
   "outputs": [
    {
     "name": "stdout",
     "output_type": "stream",
     "text": [
      "   A   B  A_squared  sum_row\n",
      "0  1  10          1       11\n",
      "1  2  20          4       22\n",
      "2  3  30          9       33\n",
      "3  4  40         16       44\n"
     ]
    }
   ],
   "source": [
    "# Aplicar una función a lo largo de las filas\n",
    "df['sum_row'] = df.apply(lambda row: row['A'] + row['B'], axis=1)\n",
    "print(df)"
   ]
  },
  {
   "cell_type": "code",
   "execution_count": 92,
   "metadata": {},
   "outputs": [
    {
     "name": "stdout",
     "output_type": "stream",
     "text": [
      "   A   B  A_squared  sum_row  A_B_ratio\n",
      "0  1  10          1       11        0.1\n",
      "1  2  20          4       22        0.1\n",
      "2  3  30          9       33        0.1\n",
      "3  4  40         16       44        0.1\n"
     ]
    }
   ],
   "source": [
    "# Crear una nueva columna basada en múltiples columnas\n",
    "df['A_B_ratio'] = df.apply(lambda row: row['A'] / row['B'], axis=1)\n",
    "print(df)"
   ]
  },
  {
   "cell_type": "code",
   "execution_count": 93,
   "metadata": {},
   "outputs": [
    {
     "name": "stdout",
     "output_type": "stream",
     "text": [
      "  Estudiante  Calificación  Resultado\n",
      "0        Ana            85   Aprobado\n",
      "1       Luis            40  Reprobado\n",
      "2     Carlos            72   Aprobado\n",
      "3      Marta            65   Aprobado\n"
     ]
    }
   ],
   "source": [
    "# Crear un DataFrame de ejemplo\n",
    "data = {\n",
    "    'Estudiante': ['Ana', 'Luis', 'Carlos', 'Marta'],\n",
    "    'Calificación': [85, 40, 72, 65]\n",
    "}\n",
    "df = pd.DataFrame(data)\n",
    "\n",
    "# Clasificar las calificaciones\n",
    "df['Resultado'] = df['Calificación'].apply(lambda x: 'Aprobado' if x >= 60 else 'Reprobado')\n",
    "print(df)"
   ]
  },
  {
   "cell_type": "code",
   "execution_count": 94,
   "metadata": {},
   "outputs": [
    {
     "name": "stdout",
     "output_type": "stream",
     "text": [
      "  Producto  Ventas  Ventas_normalizado\n",
      "0        A     200            0.000000\n",
      "1        B     300            0.333333\n",
      "2        C     400            0.666667\n",
      "3        D     500            1.000000\n"
     ]
    }
   ],
   "source": [
    "# Crear un DataFrame de ejemplo\n",
    "data = {\n",
    "    'Producto': ['A', 'B', 'C', 'D'],\n",
    "    'Ventas': [200, 300, 400, 500]\n",
    "}\n",
    "df = pd.DataFrame(data)\n",
    "\n",
    "# Normalizar la columna 'Ventas'\n",
    "max_value = df['Ventas'].max()\n",
    "min_value = df['Ventas'].min()\n",
    "df['Ventas_normalizado'] = df['Ventas'].apply(lambda x: (x - min_value) / (max_value - min_value))\n",
    "print(df)"
   ]
  },
  {
   "cell_type": "code",
   "execution_count": 95,
   "metadata": {},
   "outputs": [
    {
     "name": "stdout",
     "output_type": "stream",
     "text": [
      "   A   B  MAD_A\n",
      "0  1  10    1.5\n",
      "1  2  20    0.5\n",
      "2  3  30    0.5\n",
      "3  4  40    1.5\n"
     ]
    }
   ],
   "source": [
    "import numpy as np\n",
    "\n",
    "# Crear un DataFrame de ejemplo\n",
    "data = {\n",
    "    'A': [1, 2, 3, 4],\n",
    "    'B': [10, 20, 30, 40]\n",
    "}\n",
    "df = pd.DataFrame(data)\n",
    "\n",
    "# Calcular la desviación absoluta media\n",
    "mean_A = df['A'].mean()\n",
    "df['MAD_A'] = df['A'].apply(lambda x: np.abs(x - mean_A))\n",
    "print(df)\n",
    "\n",
    "mean_A['Otro'] = df['A'].apply(lambda x: np.abs(x - mean_A))"
   ]
  },
  {
   "cell_type": "code",
   "execution_count": 99,
   "metadata": {},
   "outputs": [
    {
     "name": "stdout",
     "output_type": "stream",
     "text": [
      "   Producto  Ventas  Precio  Ingreso Clasificación  Ventas_normalizado\n",
      "0  Manzanas      50    0.50     25.0          Alta                0.75\n",
      "1  Naranjas      30    0.75     22.5          Baja                0.25\n",
      "2   Bananas      20    0.30      6.0          Baja                0.00\n",
      "3  Manzanas      60    0.55     33.0          Alta                1.00\n",
      "4  Naranjas      40    0.80     32.0          Baja                0.50\n",
      "5   Bananas      30    0.35     10.5          Baja                0.25\n"
     ]
    }
   ],
   "source": [
    "#incluyendo transformaciones y agregaciones personalizadas.\n",
    "# Crear un DataFrame de ejemplo\n",
    "data = {\n",
    "    'Producto': ['Manzanas', 'Naranjas', 'Bananas', 'Manzanas', 'Naranjas', 'Bananas'],\n",
    "    'Ventas': [50, 30, 20, 60, 40, 30],\n",
    "    'Precio': [0.5, 0.75, 0.3, 0.55, 0.8, 0.35]\n",
    "}\n",
    "df = pd.DataFrame(data)\n",
    "\n",
    "# Calcular el ingreso total por venta\n",
    "df['Ingreso'] = df.apply(lambda row: row['Ventas'] * row['Precio'], axis=1)\n",
    "\n",
    "# Clasificar los productos por rango de ventas\n",
    "df['Clasificación'] = df['Ventas'].apply(lambda x: 'Alta' if x > 40 else 'Baja')\n",
    "\n",
    "# Normalizar la columna 'Ventas'\n",
    "max_ventas = df['Ventas'].max()\n",
    "min_ventas = df['Ventas'].min()\n",
    "df['Ventas_normalizado'] = df['Ventas'].apply(lambda x: (x - min_ventas) / (max_ventas - min_ventas))\n",
    "\n",
    "# Mostrar el DataFrame resultante\n",
    "print(df)"
   ]
  }
 ],
 "metadata": {
  "kernelspec": {
   "display_name": "Python 3",
   "language": "python",
   "name": "python3"
  },
  "language_info": {
   "codemirror_mode": {
    "name": "ipython",
    "version": 3
   },
   "file_extension": ".py",
   "mimetype": "text/x-python",
   "name": "python",
   "nbconvert_exporter": "python",
   "pygments_lexer": "ipython3",
   "version": "3.12.7"
  }
 },
 "nbformat": 4,
 "nbformat_minor": 2
}
