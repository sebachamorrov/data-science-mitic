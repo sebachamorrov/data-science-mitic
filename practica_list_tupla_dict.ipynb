{
 "cells": [
  {
   "cell_type": "markdown",
   "metadata": {},
   "source": [
    "# Practicando con ciclos (Práctica)"
   ]
  },
  {
   "cell_type": "markdown",
   "metadata": {},
   "source": [
    "### Ejercicio 1: Gestión de Inventario\n",
    "\n",
    "- Crea un diccionario para gestionar el inventario de una tienda. Las claves del diccionario deben ser los nombres de los productos y los valores deben ser la cantidad de cada producto en inventario."
   ]
  },
  {
   "cell_type": "code",
   "execution_count": 7,
   "metadata": {},
   "outputs": [
    {
     "name": "stdout",
     "output_type": "stream",
     "text": [
      "dict_keys(['Mesa', 'Silla', 'Escritorio'])\n",
      "dict_values([5, 16, 9])\n",
      "dict_items([('Mesa', 5), ('Silla', 16), ('Escritorio', 9)])\n"
     ]
    }
   ],
   "source": [
    "inventario = {\n",
    "    \"Mesa\": 5, \n",
    "    \"Silla\": 16, \n",
    "    \"Escritorio\": 9\n",
    "    }\n",
    "\n",
    "print(inventario.keys())\n",
    "print(inventario.values())\n",
    "print(inventario.items())"
   ]
  },
  {
   "cell_type": "markdown",
   "metadata": {},
   "source": [
    "- Usa un bucle for para mostrar todos los productos y sus cantidades."
   ]
  },
  {
   "cell_type": "code",
   "execution_count": 13,
   "metadata": {},
   "outputs": [
    {
     "name": "stdout",
     "output_type": "stream",
     "text": [
      "Mesa: 5\n",
      "Silla: 16\n",
      "Escritorio: 9\n"
     ]
    }
   ],
   "source": [
    "for key, valor in inventario.items():\n",
    "    print(f\"{key}: {valor}\")"
   ]
  },
  {
   "cell_type": "markdown",
   "metadata": {},
   "source": [
    "- Actualiza la cantidad de un producto específico."
   ]
  },
  {
   "cell_type": "code",
   "execution_count": 16,
   "metadata": {},
   "outputs": [
    {
     "name": "stdout",
     "output_type": "stream",
     "text": [
      "{'Mesa': 7, 'Silla': 16, 'Escritorio': 9}\n"
     ]
    }
   ],
   "source": [
    "inventario.update({\"Mesa\": 7})\n",
    "print(inventario)"
   ]
  },
  {
   "cell_type": "markdown",
   "metadata": {},
   "source": [
    "- Agrega un nuevo producto al inventario."
   ]
  },
  {
   "cell_type": "code",
   "execution_count": 20,
   "metadata": {},
   "outputs": [
    {
     "name": "stdout",
     "output_type": "stream",
     "text": [
      "{'Mesa': 7, 'Silla': 16, 'Escritorio': 9, 'Sofa': 3, 'Heladera': 2}\n"
     ]
    }
   ],
   "source": [
    "inventario.update({\"Sofa\": 3,\"Heladera\": 2})\n",
    "print(inventario)"
   ]
  },
  {
   "cell_type": "markdown",
   "metadata": {},
   "source": [
    "- Elimina un producto del inventario."
   ]
  },
  {
   "cell_type": "code",
   "execution_count": 22,
   "metadata": {},
   "outputs": [
    {
     "name": "stdout",
     "output_type": "stream",
     "text": [
      "{'Mesa': 7, 'Escritorio': 9, 'Sofa': 3, 'Heladera': 2}\n"
     ]
    }
   ],
   "source": [
    "inventario.pop(\"Silla\")\n",
    "print(inventario)"
   ]
  },
  {
   "cell_type": "markdown",
   "metadata": {},
   "source": [
    "### Ejercicio 2: Procesamiento de Datos de Estudiantes"
   ]
  },
  {
   "cell_type": "markdown",
   "metadata": {},
   "source": [
    "Crea una lista de tuplas donde cada tupla contenga el nombre de un estudiante y su calificación en un examen."
   ]
  },
  {
   "cell_type": "code",
   "execution_count": 6,
   "metadata": {},
   "outputs": [
    {
     "name": "stdout",
     "output_type": "stream",
     "text": [
      "[('Juan', 9), ('Estudiante', 8), ('Pepe', 10)]\n"
     ]
    }
   ],
   "source": [
    "estudiantes = [(\"Juan\" ,9),(\"Estudiante\",8), (\"Pepe\" ,10)]\n",
    "#print(estudiantes)\n",
    "\n",
    "print(estudiantes)\n"
   ]
  },
  {
   "cell_type": "markdown",
   "metadata": {},
   "source": [
    "Usa un bucle for para mostrar todos los nombres y calificaciones."
   ]
  },
  {
   "cell_type": "code",
   "execution_count": 7,
   "metadata": {},
   "outputs": [
    {
     "name": "stdout",
     "output_type": "stream",
     "text": [
      "Juan 9\n",
      "Estudiante 8\n",
      "Pepe 10\n"
     ]
    }
   ],
   "source": [
    "for nombre, calificacion in estudiantes:\n",
    "    print(nombre, calificacion)"
   ]
  },
  {
   "cell_type": "markdown",
   "metadata": {},
   "source": [
    "Calcula y muestra la calificación promedio."
   ]
  },
  {
   "cell_type": "code",
   "execution_count": 12,
   "metadata": {},
   "outputs": [
    {
     "name": "stdout",
     "output_type": "stream",
     "text": [
      "9.0\n"
     ]
    }
   ],
   "source": [
    "calificaciones = [calificacion for nombre, calificacion in estudiantes]\n",
    "calificacion_promedio = sum(calificaciones) / len(calificaciones)\n",
    "print(calificacion_promedio)\n",
    "\n",
    "#calificacion_promedio = (sum(calificacion) / len(calificacion))\n",
    "#print(calificacion_promedio)     "
   ]
  },
  {
   "cell_type": "markdown",
   "metadata": {},
   "source": [
    "Encuentra y muestra la calificación más alta y la más baja"
   ]
  },
  {
   "cell_type": "code",
   "execution_count": 14,
   "metadata": {},
   "outputs": [
    {
     "name": "stdout",
     "output_type": "stream",
     "text": [
      "Calificacion Maxima: 10\n",
      "Calificacion Minima: 8\n"
     ]
    }
   ],
   "source": [
    "calificacion_mas_alta = max(calificaciones)\n",
    "calificacion_mas_baja = min(calificaciones)\n",
    "print(\"Calificacion Maxima:\",calificacion_mas_alta)\n",
    "print(\"Calificacion Minima:\",calificacion_mas_baja)"
   ]
  },
  {
   "cell_type": "markdown",
   "metadata": {},
   "source": [
    "### Ejercicio 3: Registro de Ventas"
   ]
  },
  {
   "cell_type": "markdown",
   "metadata": {},
   "source": [
    "Crea un diccionario donde las claves sean los nombres de los vendedores y los valores sean listas de ventas realizadas por cada vendedor en una semana."
   ]
  },
  {
   "cell_type": "code",
   "execution_count": 44,
   "metadata": {},
   "outputs": [
    {
     "name": "stdout",
     "output_type": "stream",
     "text": [
      "{'Seby': [5, 4, 8, 6, 4, 2, 3], 'Menchi': [2, 4, 3, 6, 15, 10], 'Pepe': [1, 4, 5, 6, 2, 9, 8]}\n"
     ]
    }
   ],
   "source": [
    "ventas = {\n",
    "    \"Seby\": [5,4,8,6,4,2,3],\n",
    "    \"Menchi\": [2,4,3,6,15,10],\n",
    "    \"Pepe\": [1,4,5,6,2,9,8]\n",
    "}\n",
    "\n",
    "print(ventas)"
   ]
  },
  {
   "cell_type": "markdown",
   "metadata": {},
   "source": [
    "Usa un bucle for para mostrar el total de ventas de cada vendedor."
   ]
  },
  {
   "cell_type": "code",
   "execution_count": 45,
   "metadata": {},
   "outputs": [
    {
     "name": "stdout",
     "output_type": "stream",
     "text": [
      "{'Seby': 32}\n",
      "{'Menchi': 40}\n",
      "{'Pepe': 35}\n"
     ]
    }
   ],
   "source": [
    "for key, values in ventas.items():\n",
    "    total_por_vendedor = {key: sum(values)}\n",
    "    print(total_por_vendedor)"
   ]
  },
  {
   "cell_type": "markdown",
   "metadata": {},
   "source": [
    "Calcula y muestra el vendedor con el mayor total de ventas."
   ]
  },
  {
   "cell_type": "code",
   "execution_count": 54,
   "metadata": {},
   "outputs": [
    {
     "name": "stdout",
     "output_type": "stream",
     "text": [
      "El mejor vendedor es Pepe con 35\n"
     ]
    }
   ],
   "source": [
    "mejor_vendedor = (max(total_por_vendedor))\n",
    "\n",
    "for key in ventas.keys():\n",
    "    if key == mejor_vendedor:\n",
    "        print(f\"El mejor vendedor es {mejor_vendedor} con {sum(values)}\")\n",
    "    else:\n",
    "        pass"
   ]
  }
 ],
 "metadata": {
  "kernelspec": {
   "display_name": "Python 3",
   "language": "python",
   "name": "python3"
  },
  "language_info": {
   "codemirror_mode": {
    "name": "ipython",
    "version": 3
   },
   "file_extension": ".py",
   "mimetype": "text/x-python",
   "name": "python",
   "nbconvert_exporter": "python",
   "pygments_lexer": "ipython3",
   "version": "3.12.7"
  }
 },
 "nbformat": 4,
 "nbformat_minor": 2
}
