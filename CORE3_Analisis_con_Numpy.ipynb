{
 "cells": [
  {
   "cell_type": "markdown",
   "metadata": {},
   "source": [
    "# Análisis de Datos con NumPy (Core)"
   ]
  },
  {
   "cell_type": "markdown",
   "metadata": {},
   "source": [
    "Instrucciones:\n",
    "\n",
    "1- Descripción del Problema: Imagina que estás trabajando como analista de datos para una empresa que recopila información sobre las ventas diarias de diferentes productos en varias tiendas. Necesitas analizar estos datos para extraer información útil y presentar un resumen de las ventas.\n",
    "\n",
    "2- Requisitos del Sistema:\n",
    "- El programa debe generar datos de ventas de manera aleatoria para 10 productos diferentes en 5 tiendas distintas durante 7 días (una semana).\n",
    "- Los datos deben estar almacenados en un array de NumPy de 3 dimensiones (productos, tiendas, días).\n",
    "- Debes calcular y mostrar la siguiente información:\n",
    "    -Total de ventas por producto a lo largo de la semana.\n",
    "    -Total de ventas por tienda a lo largo de la semana.\n",
    "    -Promedio de ventas por producto por día.\n",
    "    -Promedio de ventas por tienda por día.\n",
    "    -Producto con mayor y menor ventas totales en la semana.\n",
    "    -Tienda con mayor y menor ventas totales en la semana.\n",
    "\n",
    "3- Detalles Específicos:\n",
    "- Genera los datos de ventas aleatorias usando np.random.randint, con valores entre 0 y 100.\n",
    "- Usa funciones de NumPy para calcular las sumas y promedios.\n",
    "- Maneja posibles errores o valores inesperados.\n",
    "- Presenta los resultados de manera clara y estructurada.\n",
    "\n",
    "4- Consideraciones Adicionales:\n",
    "- Organiza tu código utilizando funciones para cada una de las tareas principales.\n",
    "- Usa comentarios para explicar cada sección de tu código.\n",
    "- Asegúrate de que el código sea robusto y maneje casos en los que los datos generados puedan estar fuera de los rangos esperados."
   ]
  },
  {
   "cell_type": "code",
   "execution_count": 20,
   "metadata": {},
   "outputs": [
    {
     "name": "stdout",
     "output_type": "stream",
     "text": [
      "Total de ventas por producto a lo largo de la semana: [316 349 350 314 305]\n",
      "Total de ventas por tienda a lo largo de la semana: [642 461 531]\n",
      "Promedio de ventas por producto por día: [52.7 58.2 58.3 52.3 50.8]\n",
      "Promedio de ventas por tienda por día: [64.2 46.1 53.1]\n",
      "Producto con mayor ventas: Producto 2\n",
      "Producto con menor ventas: Producto 4\n",
      "Tienda con mayor ventas: Tienda 0\n",
      "Tienda con menor ventas: Tienda 1\n"
     ]
    }
   ],
   "source": [
    "import numpy as np\n",
    "\n",
    "productos = 5\n",
    "tiendas = 3\n",
    "dias = 2\n",
    "\n",
    "\n",
    "def generar_datos_ventas(productos, tiendas, dias):\n",
    "    return np.random.randint(0, 101, (productos, tiendas, dias))\n",
    "datos = generar_datos_ventas(productos, tiendas, dias)\n",
    "\n",
    "\n",
    "def calcular_totales_ventas_por_producto(datos):\n",
    "    return np.sum(datos, axis=(1, 2))\n",
    "totales_por_producto = calcular_totales_ventas_por_producto(datos)\n",
    "print(\"Total de ventas por producto a lo largo de la semana:\", totales_por_producto)\n",
    "\n",
    "\n",
    "def calcular_totales_ventas_por_tienda(datos):\n",
    "    # Calcula el total de ventas por tienda a lo largo de la semana\n",
    "    return np.sum(datos, axis=(0, 2))\n",
    "totales_por_tienda = calcular_totales_ventas_por_tienda(datos)\n",
    "print(\"Total de ventas por tienda a lo largo de la semana:\", totales_por_tienda)\n",
    "\n",
    "\n",
    "def calcular_promedio_ventas_por_producto(datos):\n",
    "    # Calcula el promedio de ventas por producto por día\n",
    "    return np.round((np.mean(datos, axis=(1, 2))),1)\n",
    "promedio_por_producto = calcular_promedio_ventas_por_producto(datos)\n",
    "print(\"Promedio de ventas por producto por día:\", promedio_por_producto)\n",
    "\n",
    "\n",
    "def calcular_promedio_ventas_por_tienda(datos):\n",
    "    # Calcula el promedio de ventas por tienda por día\n",
    "    return np.round((np.mean(datos, axis=(0, 2))),1)\n",
    "promedio_por_tienda = calcular_promedio_ventas_por_tienda(datos)\n",
    "print(\"Promedio de ventas por tienda por día:\", promedio_por_tienda)\n",
    "\n",
    "\n",
    "def encontrar_producto_mayor_menor_ventas(totales_por_producto):\n",
    "    # Encuentra el producto con mayor y menor ventas totales en la semana\n",
    "    producto_mayor_ventas = np.argmax(totales_por_producto)\n",
    "    producto_menor_ventas = np.argmin(totales_por_producto)\n",
    "    return producto_mayor_ventas, producto_menor_ventas\n",
    "producto_mayor_ventas, producto_menor_ventas = encontrar_producto_mayor_menor_ventas(totales_por_producto)\n",
    "print(f\"Producto con mayor ventas: Producto {producto_mayor_ventas}\")\n",
    "print(f\"Producto con menor ventas: Producto {producto_menor_ventas}\")\n",
    "\n",
    "\n",
    "def encontrar_tienda_mayor_menor_ventas(totales_por_tienda):\n",
    "    # Encuentra la tienda con mayor y menor ventas totales en la semana\n",
    "    tienda_mayor_ventas = np.argmax(totales_por_tienda)\n",
    "    tienda_menor_ventas = np.argmin(totales_por_tienda)\n",
    "    return tienda_mayor_ventas, tienda_menor_ventas\n",
    "tienda_mayor_ventas, tienda_menor_ventas = encontrar_tienda_mayor_menor_ventas(totales_por_tienda)\n",
    "print(f\"Tienda con mayor ventas: Tienda {tienda_mayor_ventas}\")\n",
    "print(f\"Tienda con menor ventas: Tienda {tienda_menor_ventas}\")\n",
    "\n"
   ]
  }
 ],
 "metadata": {
  "kernelspec": {
   "display_name": "Python 3",
   "language": "python",
   "name": "python3"
  },
  "language_info": {
   "codemirror_mode": {
    "name": "ipython",
    "version": 3
   },
   "file_extension": ".py",
   "mimetype": "text/x-python",
   "name": "python",
   "nbconvert_exporter": "python",
   "pygments_lexer": "ipython3",
   "version": "3.12.7"
  }
 },
 "nbformat": 4,
 "nbformat_minor": 2
}
